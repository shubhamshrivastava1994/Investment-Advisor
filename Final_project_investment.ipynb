{
  "cells": [
    {
      "cell_type": "markdown",
      "id": "32de953f",
      "metadata": {
        "id": "32de953f"
      },
      "source": [
        "### Importing essential packages and connecting with spreadsheet"
      ]
    },
    {
      "cell_type": "code",
      "execution_count": null,
      "id": "cfb60d89",
      "metadata": {
        "id": "cfb60d89",
        "outputId": "b275565f-a5a3-4168-8b4b-dbe3a3a6c6b5",
        "colab": {
          "base_uri": "https://localhost:8080/",
          "height": 235
        }
      },
      "outputs": [
        {
          "output_type": "error",
          "ename": "AttributeError",
          "evalue": "ignored",
          "traceback": [
            "\u001b[0;31m---------------------------------------------------------------------------\u001b[0m",
            "\u001b[0;31mAttributeError\u001b[0m                            Traceback (most recent call last)",
            "\u001b[0;32m<ipython-input-8-c53a622b7cdf>\u001b[0m in \u001b[0;36m<module>\u001b[0;34m\u001b[0m\n\u001b[1;32m      3\u001b[0m \u001b[0;34m\u001b[0m\u001b[0m\n\u001b[1;32m      4\u001b[0m \u001b[0;34m\u001b[0m\u001b[0m\n\u001b[0;32m----> 5\u001b[0;31m \u001b[0mgc\u001b[0m \u001b[0;34m=\u001b[0m \u001b[0mgspread\u001b[0m\u001b[0;34m.\u001b[0m\u001b[0mservice_account\u001b[0m\u001b[0;34m(\u001b[0m\u001b[0mfilename\u001b[0m\u001b[0;34m=\u001b[0m\u001b[0;34m'service_account.json'\u001b[0m\u001b[0;34m)\u001b[0m\u001b[0;34m\u001b[0m\u001b[0;34m\u001b[0m\u001b[0m\n\u001b[0m\u001b[1;32m      6\u001b[0m \u001b[0;34m\u001b[0m\u001b[0m\n\u001b[1;32m      7\u001b[0m \u001b[0mbse500\u001b[0m \u001b[0;34m=\u001b[0m \u001b[0mgc\u001b[0m\u001b[0;34m.\u001b[0m\u001b[0mopen\u001b[0m\u001b[0;34m(\u001b[0m\u001b[0;34m\"BSE500\"\u001b[0m\u001b[0;34m)\u001b[0m\u001b[0;34m\u001b[0m\u001b[0;34m\u001b[0m\u001b[0m\n",
            "\u001b[0;31mAttributeError\u001b[0m: module 'gspread' has no attribute 'service_account'"
          ]
        }
      ],
      "source": [
        "import pandas as pd\n",
        "import gspread\n",
        "\n",
        "\n",
        "gc = gspread.service_account(filename='service_account.json')\n",
        "\n",
        "bse500 = gc.open(\"BSE500\")\n",
        "Income_Expense = gc.open(\"Income / Expense\")\n",
        "Final_Report = gc.open(\"Final Report\")\n",
        "# print(sh.sheet1.get('A1:AO502'))\n",
        "# print(sh.worksheet('bse500'))\n",
        "# df1 = pd.DataFrame(sh.worksheet('bse500'))\n",
        "BSE500 = pd.DataFrame(bse500.sheet1.get('A1:AP502'))\n",
        "income_expense = pd.DataFrame(Income_Expense.sheet1.get('A1:K278'))\n",
        "Final_Report_1 = pd.DataFrame(Final_Report.sheet1.get('B7:C27'))\n",
        "\n",
        "\n",
        "\n",
        "\n",
        "# BSE500[[0,1,2]]\n",
        "# income_expense.head(2)\n",
        "# Final_Report_1"
      ]
    },
    {
      "cell_type": "code",
      "execution_count": null,
      "id": "5a82c6bc",
      "metadata": {
        "id": "5a82c6bc",
        "outputId": "edebf0d7-9f45-45af-df80-2a1178e237cf",
        "colab": {
          "base_uri": "https://localhost:8080/",
          "height": 304
        }
      },
      "outputs": [
        {
          "output_type": "error",
          "ename": "ModuleNotFoundError",
          "evalue": "ignored",
          "traceback": [
            "\u001b[0;31m---------------------------------------------------------------------------\u001b[0m",
            "\u001b[0;31mModuleNotFoundError\u001b[0m                       Traceback (most recent call last)",
            "\u001b[0;32m<ipython-input-5-49881fb5fc94>\u001b[0m in \u001b[0;36m<module>\u001b[0;34m\u001b[0m\n\u001b[0;32m----> 1\u001b[0;31m \u001b[0;32mimport\u001b[0m \u001b[0mpandasql\u001b[0m \u001b[0;32mas\u001b[0m \u001b[0mps\u001b[0m\u001b[0;34m\u001b[0m\u001b[0;34m\u001b[0m\u001b[0m\n\u001b[0m",
            "\u001b[0;31mModuleNotFoundError\u001b[0m: No module named 'pandasql'",
            "",
            "\u001b[0;31m---------------------------------------------------------------------------\u001b[0;32m\nNOTE: If your import is failing due to a missing package, you can\nmanually install dependencies using either !pip or !apt.\n\nTo view examples of installing some common dependencies, click the\n\"Open Examples\" button below.\n\u001b[0;31m---------------------------------------------------------------------------\u001b[0m\n"
          ],
          "errorDetails": {
            "actions": [
              {
                "action": "open_url",
                "actionText": "Open Examples",
                "url": "/notebooks/snippets/importing_libraries.ipynb"
              }
            ]
          }
        }
      ],
      "source": [
        "import pandasql as ps"
      ]
    },
    {
      "cell_type": "code",
      "execution_count": null,
      "id": "27f9fda8",
      "metadata": {
        "id": "27f9fda8",
        "outputId": "664edc1d-d752-429b-a333-9cc763c45af0",
        "colab": {
          "base_uri": "https://localhost:8080/",
          "height": 380
        }
      },
      "outputs": [
        {
          "output_type": "error",
          "ename": "FileNotFoundError",
          "evalue": "ignored",
          "traceback": [
            "\u001b[0;31m---------------------------------------------------------------------------\u001b[0m",
            "\u001b[0;31mFileNotFoundError\u001b[0m                         Traceback (most recent call last)",
            "\u001b[0;32m<ipython-input-6-6bbbda919e3d>\u001b[0m in \u001b[0;36m<module>\u001b[0;34m\u001b[0m\n\u001b[1;32m      8\u001b[0m credentials = Credentials.from_service_account_file(\n\u001b[1;32m      9\u001b[0m     \u001b[0;34m'service_account.json'\u001b[0m\u001b[0;34m,\u001b[0m\u001b[0;34m\u001b[0m\u001b[0;34m\u001b[0m\u001b[0m\n\u001b[0;32m---> 10\u001b[0;31m     \u001b[0mscopes\u001b[0m\u001b[0;34m=\u001b[0m\u001b[0mscopes\u001b[0m\u001b[0;34m\u001b[0m\u001b[0;34m\u001b[0m\u001b[0m\n\u001b[0m\u001b[1;32m     11\u001b[0m )\n\u001b[1;32m     12\u001b[0m \u001b[0;34m\u001b[0m\u001b[0m\n",
            "\u001b[0;32m/usr/local/lib/python3.7/dist-packages/google/oauth2/service_account.py\u001b[0m in \u001b[0;36mfrom_service_account_file\u001b[0;34m(cls, filename, **kwargs)\u001b[0m\n\u001b[1;32m    237\u001b[0m         \"\"\"\n\u001b[1;32m    238\u001b[0m         info, signer = _service_account_info.from_filename(\n\u001b[0;32m--> 239\u001b[0;31m             \u001b[0mfilename\u001b[0m\u001b[0;34m,\u001b[0m \u001b[0mrequire\u001b[0m\u001b[0;34m=\u001b[0m\u001b[0;34m[\u001b[0m\u001b[0;34m\"client_email\"\u001b[0m\u001b[0;34m,\u001b[0m \u001b[0;34m\"token_uri\"\u001b[0m\u001b[0;34m]\u001b[0m\u001b[0;34m\u001b[0m\u001b[0;34m\u001b[0m\u001b[0m\n\u001b[0m\u001b[1;32m    240\u001b[0m         )\n\u001b[1;32m    241\u001b[0m         \u001b[0;32mreturn\u001b[0m \u001b[0mcls\u001b[0m\u001b[0;34m.\u001b[0m\u001b[0m_from_signer_and_info\u001b[0m\u001b[0;34m(\u001b[0m\u001b[0msigner\u001b[0m\u001b[0;34m,\u001b[0m \u001b[0minfo\u001b[0m\u001b[0;34m,\u001b[0m \u001b[0;34m**\u001b[0m\u001b[0mkwargs\u001b[0m\u001b[0;34m)\u001b[0m\u001b[0;34m\u001b[0m\u001b[0;34m\u001b[0m\u001b[0m\n",
            "\u001b[0;32m/usr/local/lib/python3.7/dist-packages/google/auth/_service_account_info.py\u001b[0m in \u001b[0;36mfrom_filename\u001b[0;34m(filename, require)\u001b[0m\n\u001b[1;32m     70\u001b[0m             \u001b[0minfo\u001b[0m \u001b[0;32mand\u001b[0m \u001b[0ma\u001b[0m \u001b[0msigner\u001b[0m \u001b[0minstance\u001b[0m\u001b[0;34m.\u001b[0m\u001b[0;34m\u001b[0m\u001b[0;34m\u001b[0m\u001b[0m\n\u001b[1;32m     71\u001b[0m     \"\"\"\n\u001b[0;32m---> 72\u001b[0;31m     \u001b[0;32mwith\u001b[0m \u001b[0mio\u001b[0m\u001b[0;34m.\u001b[0m\u001b[0mopen\u001b[0m\u001b[0;34m(\u001b[0m\u001b[0mfilename\u001b[0m\u001b[0;34m,\u001b[0m \u001b[0;34m\"r\"\u001b[0m\u001b[0;34m,\u001b[0m \u001b[0mencoding\u001b[0m\u001b[0;34m=\u001b[0m\u001b[0;34m\"utf-8\"\u001b[0m\u001b[0;34m)\u001b[0m \u001b[0;32mas\u001b[0m \u001b[0mjson_file\u001b[0m\u001b[0;34m:\u001b[0m\u001b[0;34m\u001b[0m\u001b[0;34m\u001b[0m\u001b[0m\n\u001b[0m\u001b[1;32m     73\u001b[0m         \u001b[0mdata\u001b[0m \u001b[0;34m=\u001b[0m \u001b[0mjson\u001b[0m\u001b[0;34m.\u001b[0m\u001b[0mload\u001b[0m\u001b[0;34m(\u001b[0m\u001b[0mjson_file\u001b[0m\u001b[0;34m)\u001b[0m\u001b[0;34m\u001b[0m\u001b[0;34m\u001b[0m\u001b[0m\n\u001b[1;32m     74\u001b[0m         \u001b[0;32mreturn\u001b[0m \u001b[0mdata\u001b[0m\u001b[0;34m,\u001b[0m \u001b[0mfrom_dict\u001b[0m\u001b[0;34m(\u001b[0m\u001b[0mdata\u001b[0m\u001b[0;34m,\u001b[0m \u001b[0mrequire\u001b[0m\u001b[0;34m=\u001b[0m\u001b[0mrequire\u001b[0m\u001b[0;34m)\u001b[0m\u001b[0;34m\u001b[0m\u001b[0;34m\u001b[0m\u001b[0m\n",
            "\u001b[0;31mFileNotFoundError\u001b[0m: [Errno 2] No such file or directory: 'service_account.json'"
          ]
        }
      ],
      "source": [
        "from google.oauth2.service_account import Credentials\n",
        "\n",
        "scopes = [\n",
        "    'https://www.googleapis.com/auth/spreadsheets',\n",
        "    'https://www.googleapis.com/auth/drive'\n",
        "]\n",
        "\n",
        "credentials = Credentials.from_service_account_file(\n",
        "    'service_account.json',\n",
        "    scopes=scopes\n",
        ")\n",
        "\n",
        "gc = gspread.authorize(credentials)"
      ]
    },
    {
      "cell_type": "markdown",
      "id": "3f81733f",
      "metadata": {
        "id": "3f81733f"
      },
      "source": [
        "### Populate Net Income for the month in sheet1 of Gsheet 3\n",
        "### Populate Net Expense for the given data in sheet1 of Gsheet 3"
      ]
    },
    {
      "cell_type": "code",
      "execution_count": null,
      "id": "29f2f955",
      "metadata": {
        "id": "29f2f955",
        "outputId": "3900981d-276a-4bb7-960e-5a59ec3defd6",
        "colab": {
          "base_uri": "https://localhost:8080/",
          "height": 235
        }
      },
      "outputs": [
        {
          "output_type": "error",
          "ename": "NameError",
          "evalue": "ignored",
          "traceback": [
            "\u001b[0;31m---------------------------------------------------------------------------\u001b[0m",
            "\u001b[0;31mNameError\u001b[0m                                 Traceback (most recent call last)",
            "\u001b[0;32m<ipython-input-7-7289e6d71df0>\u001b[0m in \u001b[0;36m<module>\u001b[0;34m\u001b[0m\n\u001b[0;32m----> 1\u001b[0;31m \u001b[0mincome_expense\u001b[0m\u001b[0;34m\u001b[0m\u001b[0;34m\u001b[0m\u001b[0m\n\u001b[0m\u001b[1;32m      2\u001b[0m \u001b[0mnew_header\u001b[0m \u001b[0;34m=\u001b[0m \u001b[0mincome_expense\u001b[0m\u001b[0;34m.\u001b[0m\u001b[0miloc\u001b[0m\u001b[0;34m[\u001b[0m\u001b[0;36m0\u001b[0m\u001b[0;34m]\u001b[0m\u001b[0;34m\u001b[0m\u001b[0;34m\u001b[0m\u001b[0m\n\u001b[1;32m      3\u001b[0m \u001b[0mnew_header\u001b[0m\u001b[0;34m\u001b[0m\u001b[0;34m\u001b[0m\u001b[0m\n\u001b[1;32m      4\u001b[0m \u001b[0mincome_expense\u001b[0m \u001b[0;34m=\u001b[0m \u001b[0mincome_expense\u001b[0m\u001b[0;34m[\u001b[0m\u001b[0;36m1\u001b[0m\u001b[0;34m:\u001b[0m\u001b[0;34m]\u001b[0m\u001b[0;34m\u001b[0m\u001b[0;34m\u001b[0m\u001b[0m\n\u001b[1;32m      5\u001b[0m \u001b[0mincome_expense\u001b[0m\u001b[0;34m.\u001b[0m\u001b[0mcolumns\u001b[0m \u001b[0;34m=\u001b[0m \u001b[0mnew_header\u001b[0m\u001b[0;34m\u001b[0m\u001b[0;34m\u001b[0m\u001b[0m\n",
            "\u001b[0;31mNameError\u001b[0m: name 'income_expense' is not defined"
          ]
        }
      ],
      "source": [
        "income_expense\n",
        "new_header = income_expense.iloc[0]\n",
        "new_header\n",
        "income_expense = income_expense[1:]\n",
        "income_expense.columns = new_header"
      ]
    },
    {
      "cell_type": "code",
      "execution_count": null,
      "id": "f3950a81",
      "metadata": {
        "id": "f3950a81",
        "outputId": "97464693-740d-4b0c-a324-d8393f08b4de"
      },
      "outputs": [
        {
          "data": {
            "text/plain": [
              "0\n",
              "Date              object\n",
              "Account           object\n",
              "Category          object\n",
              "Subcategory       object\n",
              "Note              object\n",
              "INR               object\n",
              "Income/Expense    object\n",
              "Note              object\n",
              "Amount            object\n",
              "Currency          object\n",
              "Account           object\n",
              "dtype: object"
            ]
          },
          "execution_count": 68,
          "metadata": {},
          "output_type": "execute_result"
        }
      ],
      "source": [
        "income_expense.dtypes"
      ]
    },
    {
      "cell_type": "code",
      "execution_count": null,
      "id": "a6b6f5dc",
      "metadata": {
        "id": "a6b6f5dc"
      },
      "outputs": [],
      "source": [
        "income_expense[\"Amount\"] = pd.to_numeric(income_expense[\"Amount\"])"
      ]
    },
    {
      "cell_type": "code",
      "execution_count": null,
      "id": "530432fb",
      "metadata": {
        "id": "530432fb",
        "outputId": "4b887b0b-8455-4f70-e21a-3c6f700b4780"
      },
      "outputs": [
        {
          "data": {
            "text/plain": [
              "0\n",
              "Date               object\n",
              "Account            object\n",
              "Category           object\n",
              "Subcategory        object\n",
              "Note               object\n",
              "INR                object\n",
              "Income/Expense     object\n",
              "Note               object\n",
              "Amount            float64\n",
              "Currency           object\n",
              "Account            object\n",
              "dtype: object"
            ]
          },
          "execution_count": 70,
          "metadata": {},
          "output_type": "execute_result"
        }
      ],
      "source": [
        "income_expense.dtypes"
      ]
    },
    {
      "cell_type": "code",
      "execution_count": null,
      "id": "889f06ef",
      "metadata": {
        "id": "889f06ef",
        "outputId": "c7f5a41b-656e-43a0-bd5b-3c5104f00c0c"
      },
      "outputs": [
        {
          "data": {
            "text/html": [
              "<div>\n",
              "<style scoped>\n",
              "    .dataframe tbody tr th:only-of-type {\n",
              "        vertical-align: middle;\n",
              "    }\n",
              "\n",
              "    .dataframe tbody tr th {\n",
              "        vertical-align: top;\n",
              "    }\n",
              "\n",
              "    .dataframe thead th {\n",
              "        text-align: right;\n",
              "    }\n",
              "</style>\n",
              "<table border=\"1\" class=\"dataframe\">\n",
              "  <thead>\n",
              "    <tr style=\"text-align: right;\">\n",
              "      <th></th>\n",
              "      <th>Date</th>\n",
              "      <th>Account</th>\n",
              "      <th>Category</th>\n",
              "      <th>Subcategory</th>\n",
              "      <th>Note</th>\n",
              "      <th>INR</th>\n",
              "      <th>Income/Expense</th>\n",
              "      <th>Note</th>\n",
              "      <th>Amount</th>\n",
              "      <th>Currency</th>\n",
              "      <th>Account</th>\n",
              "    </tr>\n",
              "  </thead>\n",
              "  <tbody>\n",
              "    <tr>\n",
              "      <th>1</th>\n",
              "      <td>3/2/2022 10:11</td>\n",
              "      <td>CUB - online payment</td>\n",
              "      <td>Food</td>\n",
              "      <td></td>\n",
              "      <td>Brownie</td>\n",
              "      <td>50</td>\n",
              "      <td>Expense</td>\n",
              "      <td></td>\n",
              "      <td>50.0</td>\n",
              "      <td>INR</td>\n",
              "      <td>50</td>\n",
              "    </tr>\n",
              "    <tr>\n",
              "      <th>2</th>\n",
              "      <td>3/2/2022 10:11</td>\n",
              "      <td>CUB - online payment</td>\n",
              "      <td>Other</td>\n",
              "      <td></td>\n",
              "      <td>To lended people</td>\n",
              "      <td>300</td>\n",
              "      <td>Expense</td>\n",
              "      <td></td>\n",
              "      <td>300.0</td>\n",
              "      <td>INR</td>\n",
              "      <td>300</td>\n",
              "    </tr>\n",
              "    <tr>\n",
              "      <th>3</th>\n",
              "      <td>3/1/2022 19:50</td>\n",
              "      <td>CUB - online payment</td>\n",
              "      <td>Food</td>\n",
              "      <td></td>\n",
              "      <td>Dinner</td>\n",
              "      <td>78</td>\n",
              "      <td>Expense</td>\n",
              "      <td></td>\n",
              "      <td>78.0</td>\n",
              "      <td>INR</td>\n",
              "      <td>78</td>\n",
              "    </tr>\n",
              "    <tr>\n",
              "      <th>4</th>\n",
              "      <td>3/1/2022 18:56</td>\n",
              "      <td>CUB - online payment</td>\n",
              "      <td>Transportation</td>\n",
              "      <td></td>\n",
              "      <td>Metro</td>\n",
              "      <td>30</td>\n",
              "      <td>Expense</td>\n",
              "      <td></td>\n",
              "      <td>30.0</td>\n",
              "      <td>INR</td>\n",
              "      <td>30</td>\n",
              "    </tr>\n",
              "    <tr>\n",
              "      <th>5</th>\n",
              "      <td>3/1/2022 18:22</td>\n",
              "      <td>CUB - online payment</td>\n",
              "      <td>Food</td>\n",
              "      <td></td>\n",
              "      <td>Snacks</td>\n",
              "      <td>67</td>\n",
              "      <td>Expense</td>\n",
              "      <td></td>\n",
              "      <td>67.0</td>\n",
              "      <td>INR</td>\n",
              "      <td>67</td>\n",
              "    </tr>\n",
              "    <tr>\n",
              "      <th>...</th>\n",
              "      <td>...</td>\n",
              "      <td>...</td>\n",
              "      <td>...</td>\n",
              "      <td>...</td>\n",
              "      <td>...</td>\n",
              "      <td>...</td>\n",
              "      <td>...</td>\n",
              "      <td>...</td>\n",
              "      <td>...</td>\n",
              "      <td>...</td>\n",
              "      <td>...</td>\n",
              "    </tr>\n",
              "    <tr>\n",
              "      <th>273</th>\n",
              "      <td>11/22/2021 14:16</td>\n",
              "      <td>CUB - online payment</td>\n",
              "      <td>Food</td>\n",
              "      <td></td>\n",
              "      <td>Dinner</td>\n",
              "      <td>90</td>\n",
              "      <td>Expense</td>\n",
              "      <td></td>\n",
              "      <td>90.0</td>\n",
              "      <td>INR</td>\n",
              "      <td>90</td>\n",
              "    </tr>\n",
              "    <tr>\n",
              "      <th>274</th>\n",
              "      <td>11/22/2021 14:16</td>\n",
              "      <td>CUB - online payment</td>\n",
              "      <td>Food</td>\n",
              "      <td></td>\n",
              "      <td>Lunch with company</td>\n",
              "      <td>97</td>\n",
              "      <td>Expense</td>\n",
              "      <td></td>\n",
              "      <td>97.0</td>\n",
              "      <td>INR</td>\n",
              "      <td>97</td>\n",
              "    </tr>\n",
              "    <tr>\n",
              "      <th>275</th>\n",
              "      <td>11/21/2021 17:07</td>\n",
              "      <td>CUB - online payment</td>\n",
              "      <td>Transportation</td>\n",
              "      <td></td>\n",
              "      <td>Rapido</td>\n",
              "      <td>130</td>\n",
              "      <td>Expense</td>\n",
              "      <td></td>\n",
              "      <td>130.0</td>\n",
              "      <td>INR</td>\n",
              "      <td>130</td>\n",
              "    </tr>\n",
              "    <tr>\n",
              "      <th>276</th>\n",
              "      <td>11/21/2021 15:50</td>\n",
              "      <td>CUB - online payment</td>\n",
              "      <td>Food</td>\n",
              "      <td></td>\n",
              "      <td>Lunch</td>\n",
              "      <td>875</td>\n",
              "      <td>Expense</td>\n",
              "      <td></td>\n",
              "      <td>875.0</td>\n",
              "      <td>INR</td>\n",
              "      <td>875</td>\n",
              "    </tr>\n",
              "    <tr>\n",
              "      <th>277</th>\n",
              "      <td>11/21/2021 13:30</td>\n",
              "      <td>CUB - online payment</td>\n",
              "      <td>Other</td>\n",
              "      <td></td>\n",
              "      <td>Got from gobi</td>\n",
              "      <td>2000</td>\n",
              "      <td>Income</td>\n",
              "      <td></td>\n",
              "      <td>2000.0</td>\n",
              "      <td>INR</td>\n",
              "      <td>2000</td>\n",
              "    </tr>\n",
              "  </tbody>\n",
              "</table>\n",
              "<p>277 rows × 11 columns</p>\n",
              "</div>"
            ],
            "text/plain": [
              "0                Date               Account        Category Subcategory  \\\n",
              "1      3/2/2022 10:11  CUB - online payment            Food               \n",
              "2      3/2/2022 10:11  CUB - online payment           Other               \n",
              "3      3/1/2022 19:50  CUB - online payment            Food               \n",
              "4      3/1/2022 18:56  CUB - online payment  Transportation               \n",
              "5      3/1/2022 18:22  CUB - online payment            Food               \n",
              "..                ...                   ...             ...         ...   \n",
              "273  11/22/2021 14:16  CUB - online payment            Food               \n",
              "274  11/22/2021 14:16  CUB - online payment            Food               \n",
              "275  11/21/2021 17:07  CUB - online payment  Transportation               \n",
              "276  11/21/2021 15:50  CUB - online payment            Food               \n",
              "277  11/21/2021 13:30  CUB - online payment           Other               \n",
              "\n",
              "0                  Note   INR Income/Expense Note  Amount Currency Account  \n",
              "1               Brownie    50        Expense         50.0      INR      50  \n",
              "2      To lended people   300        Expense        300.0      INR     300  \n",
              "3                Dinner    78        Expense         78.0      INR      78  \n",
              "4                 Metro    30        Expense         30.0      INR      30  \n",
              "5                Snacks    67        Expense         67.0      INR      67  \n",
              "..                  ...   ...            ...  ...     ...      ...     ...  \n",
              "273              Dinner    90        Expense         90.0      INR      90  \n",
              "274  Lunch with company    97        Expense         97.0      INR      97  \n",
              "275              Rapido   130        Expense        130.0      INR     130  \n",
              "276               Lunch   875        Expense        875.0      INR     875  \n",
              "277       Got from gobi  2000         Income       2000.0      INR    2000  \n",
              "\n",
              "[277 rows x 11 columns]"
            ]
          },
          "execution_count": 71,
          "metadata": {},
          "output_type": "execute_result"
        }
      ],
      "source": [
        "income_expense"
      ]
    },
    {
      "cell_type": "code",
      "execution_count": null,
      "id": "d3991cb7",
      "metadata": {
        "id": "d3991cb7",
        "outputId": "a353496f-fefa-419a-f5ad-10908e6bb760"
      },
      "outputs": [
        {
          "data": {
            "text/plain": [
              "140572.28"
            ]
          },
          "execution_count": 12,
          "metadata": {},
          "output_type": "execute_result"
        }
      ],
      "source": [
        "Total = income_expense['Amount'].sum()\n",
        "Total"
      ]
    },
    {
      "cell_type": "code",
      "execution_count": null,
      "id": "81b7fe7a",
      "metadata": {
        "id": "81b7fe7a"
      },
      "outputs": [],
      "source": [
        "g_sum = income_expense.groupby(['Income/Expense']).sum()"
      ]
    },
    {
      "cell_type": "code",
      "execution_count": null,
      "id": "ac635eb0",
      "metadata": {
        "id": "ac635eb0",
        "outputId": "096feb35-e013-4246-b089-ee09a947a92d"
      },
      "outputs": [
        {
          "data": {
            "text/html": [
              "<div>\n",
              "<style scoped>\n",
              "    .dataframe tbody tr th:only-of-type {\n",
              "        vertical-align: middle;\n",
              "    }\n",
              "\n",
              "    .dataframe tbody tr th {\n",
              "        vertical-align: top;\n",
              "    }\n",
              "\n",
              "    .dataframe thead th {\n",
              "        text-align: right;\n",
              "    }\n",
              "</style>\n",
              "<table border=\"1\" class=\"dataframe\">\n",
              "  <thead>\n",
              "    <tr style=\"text-align: right;\">\n",
              "      <th></th>\n",
              "      <th>Amount</th>\n",
              "    </tr>\n",
              "    <tr>\n",
              "      <th>Income/Expense</th>\n",
              "      <th></th>\n",
              "    </tr>\n",
              "  </thead>\n",
              "  <tbody>\n",
              "    <tr>\n",
              "      <th>Expense</th>\n",
              "      <td>57918.28</td>\n",
              "    </tr>\n",
              "    <tr>\n",
              "      <th>Income</th>\n",
              "      <td>82654.00</td>\n",
              "    </tr>\n",
              "  </tbody>\n",
              "</table>\n",
              "</div>"
            ],
            "text/plain": [
              "0                 Amount\n",
              "Income/Expense          \n",
              "Expense         57918.28\n",
              "Income          82654.00"
            ]
          },
          "execution_count": 14,
          "metadata": {},
          "output_type": "execute_result"
        }
      ],
      "source": [
        "g_sum"
      ]
    },
    {
      "cell_type": "code",
      "execution_count": null,
      "id": "ede64a83",
      "metadata": {
        "id": "ede64a83"
      },
      "outputs": [],
      "source": [
        "net_income = g_sum['Amount'].iloc[1]"
      ]
    },
    {
      "cell_type": "code",
      "execution_count": null,
      "id": "fea130fa",
      "metadata": {
        "id": "fea130fa",
        "outputId": "f9422802-40b9-4629-8182-70dc6c4e473d"
      },
      "outputs": [
        {
          "data": {
            "text/plain": [
              "82654.0"
            ]
          },
          "execution_count": 16,
          "metadata": {},
          "output_type": "execute_result"
        }
      ],
      "source": [
        "net_income"
      ]
    },
    {
      "cell_type": "code",
      "execution_count": null,
      "id": "c1115c0e",
      "metadata": {
        "id": "c1115c0e"
      },
      "outputs": [],
      "source": [
        "net_expense = g_sum['Amount'].iloc[0]"
      ]
    },
    {
      "cell_type": "code",
      "execution_count": null,
      "id": "db431324",
      "metadata": {
        "id": "db431324",
        "outputId": "0a89743c-e4b9-454b-da93-9328765638b1"
      },
      "outputs": [
        {
          "data": {
            "text/plain": [
              "57918.28"
            ]
          },
          "execution_count": 18,
          "metadata": {},
          "output_type": "execute_result"
        }
      ],
      "source": [
        "net_expense"
      ]
    },
    {
      "cell_type": "code",
      "execution_count": null,
      "id": "1fb0c6e0",
      "metadata": {
        "id": "1fb0c6e0"
      },
      "outputs": [],
      "source": [
        "f_r = gc.open(\"Final Report\").sheet1"
      ]
    },
    {
      "cell_type": "code",
      "execution_count": null,
      "id": "dc513ee2",
      "metadata": {
        "id": "dc513ee2",
        "outputId": "2cd0cd0e-fb24-451f-8443-0c71e60c5905"
      },
      "outputs": [
        {
          "data": {
            "text/plain": [
              "{'spreadsheetId': '1dlArNE_7-2XCSCrR9dEgIM72FZ0GEsndF3hng9XOp0M',\n",
              " 'updatedRange': 'Sheet1!C7',\n",
              " 'updatedRows': 1,\n",
              " 'updatedColumns': 1,\n",
              " 'updatedCells': 1}"
            ]
          },
          "execution_count": 20,
          "metadata": {},
          "output_type": "execute_result"
        }
      ],
      "source": [
        "f_r.update_cell(7,3,net_income)"
      ]
    },
    {
      "cell_type": "code",
      "execution_count": null,
      "id": "95e95ce0",
      "metadata": {
        "id": "95e95ce0",
        "outputId": "a6d436f7-11be-4115-ba5c-6ea13a7aa7f9"
      },
      "outputs": [
        {
          "data": {
            "text/plain": [
              "{'spreadsheetId': '1dlArNE_7-2XCSCrR9dEgIM72FZ0GEsndF3hng9XOp0M',\n",
              " 'updatedRange': 'Sheet1!C8',\n",
              " 'updatedRows': 1,\n",
              " 'updatedColumns': 1,\n",
              " 'updatedCells': 1}"
            ]
          },
          "execution_count": 21,
          "metadata": {},
          "output_type": "execute_result"
        }
      ],
      "source": [
        "f_r.update_cell(8,3,net_expense)"
      ]
    },
    {
      "cell_type": "markdown",
      "id": "24ad9a3e",
      "metadata": {
        "id": "24ad9a3e"
      },
      "source": [
        "### Cost incurred in different categories : Food, Other, Transportation, Social Life, Household, Apparel, Education, Salary, Allowance, Self-development, Beauty, Gift, Petty cash - for the given data in sheet1 of Gsheet 3"
      ]
    },
    {
      "cell_type": "code",
      "execution_count": null,
      "id": "c9165c60",
      "metadata": {
        "id": "c9165c60"
      },
      "outputs": [],
      "source": [
        "cat_sum = income_expense.groupby(['Category']).sum()"
      ]
    },
    {
      "cell_type": "code",
      "execution_count": null,
      "id": "6b62f82d",
      "metadata": {
        "id": "6b62f82d",
        "outputId": "d28ec471-ac82-4626-ce88-c82542498349"
      },
      "outputs": [
        {
          "data": {
            "text/html": [
              "<div>\n",
              "<style scoped>\n",
              "    .dataframe tbody tr th:only-of-type {\n",
              "        vertical-align: middle;\n",
              "    }\n",
              "\n",
              "    .dataframe tbody tr th {\n",
              "        vertical-align: top;\n",
              "    }\n",
              "\n",
              "    .dataframe thead th {\n",
              "        text-align: right;\n",
              "    }\n",
              "</style>\n",
              "<table border=\"1\" class=\"dataframe\">\n",
              "  <thead>\n",
              "    <tr style=\"text-align: right;\">\n",
              "      <th></th>\n",
              "      <th>Amount</th>\n",
              "    </tr>\n",
              "    <tr>\n",
              "      <th>Category</th>\n",
              "      <th></th>\n",
              "    </tr>\n",
              "  </thead>\n",
              "  <tbody>\n",
              "    <tr>\n",
              "      <th>Allowance</th>\n",
              "      <td>14000.00</td>\n",
              "    </tr>\n",
              "    <tr>\n",
              "      <th>Apparel</th>\n",
              "      <td>3388.00</td>\n",
              "    </tr>\n",
              "    <tr>\n",
              "      <th>Beauty</th>\n",
              "      <td>196.00</td>\n",
              "    </tr>\n",
              "    <tr>\n",
              "      <th>Education</th>\n",
              "      <td>1400.00</td>\n",
              "    </tr>\n",
              "    <tr>\n",
              "      <th>Food</th>\n",
              "      <td>23396.76</td>\n",
              "    </tr>\n",
              "    <tr>\n",
              "      <th>Gift</th>\n",
              "      <td>115.00</td>\n",
              "    </tr>\n",
              "    <tr>\n",
              "      <th>Household</th>\n",
              "      <td>12188.00</td>\n",
              "    </tr>\n",
              "    <tr>\n",
              "      <th>Other</th>\n",
              "      <td>65768.00</td>\n",
              "    </tr>\n",
              "    <tr>\n",
              "      <th>Petty cash</th>\n",
              "      <td>3.00</td>\n",
              "    </tr>\n",
              "    <tr>\n",
              "      <th>Salary</th>\n",
              "      <td>8000.00</td>\n",
              "    </tr>\n",
              "    <tr>\n",
              "      <th>Self-development</th>\n",
              "      <td>400.00</td>\n",
              "    </tr>\n",
              "    <tr>\n",
              "      <th>Social Life</th>\n",
              "      <td>2513.72</td>\n",
              "    </tr>\n",
              "    <tr>\n",
              "      <th>Transportation</th>\n",
              "      <td>9203.80</td>\n",
              "    </tr>\n",
              "  </tbody>\n",
              "</table>\n",
              "</div>"
            ],
            "text/plain": [
              "0                   Amount\n",
              "Category                  \n",
              "Allowance         14000.00\n",
              "Apparel            3388.00\n",
              "Beauty              196.00\n",
              "Education          1400.00\n",
              "Food              23396.76\n",
              "Gift                115.00\n",
              "Household         12188.00\n",
              "Other             65768.00\n",
              "Petty cash            3.00\n",
              "Salary             8000.00\n",
              "Self-development    400.00\n",
              "Social Life        2513.72\n",
              "Transportation     9203.80"
            ]
          },
          "execution_count": 23,
          "metadata": {},
          "output_type": "execute_result"
        }
      ],
      "source": [
        "cat_sum"
      ]
    },
    {
      "cell_type": "code",
      "execution_count": null,
      "id": "8974c078",
      "metadata": {
        "id": "8974c078"
      },
      "outputs": [],
      "source": [
        "Food = cat_sum['Amount'].iloc[4]\n",
        "Other = cat_sum['Amount'].iloc[7]\n",
        "Transportation = cat_sum['Amount'].iloc[12]\n",
        "Social_Life = cat_sum['Amount'].iloc[11]\n",
        "Household = cat_sum['Amount'].iloc[6]\n",
        "Apparel = cat_sum['Amount'].iloc[1]\n",
        "Education = cat_sum['Amount'].iloc[3]\n",
        "Salary = cat_sum['Amount'].iloc[9]\n",
        "Allowance = cat_sum['Amount'].iloc[0]\n",
        "Beauty = cat_sum['Amount'].iloc[2]\n",
        "Gift = cat_sum['Amount'].iloc[5]\n",
        "Petty_cash = cat_sum['Amount'].iloc[8]"
      ]
    },
    {
      "cell_type": "code",
      "execution_count": null,
      "id": "efedb542",
      "metadata": {
        "id": "efedb542",
        "outputId": "739fc2a2-e528-4082-e10f-6a15ebd0d0f9"
      },
      "outputs": [
        {
          "data": {
            "text/plain": [
              "{'spreadsheetId': '1dlArNE_7-2XCSCrR9dEgIM72FZ0GEsndF3hng9XOp0M',\n",
              " 'updatedRange': 'Sheet1!C21',\n",
              " 'updatedRows': 1,\n",
              " 'updatedColumns': 1,\n",
              " 'updatedCells': 1}"
            ]
          },
          "execution_count": 25,
          "metadata": {},
          "output_type": "execute_result"
        }
      ],
      "source": [
        "f_r.update_cell(10,3,Food)\n",
        "f_r.update_cell(11,3,Other)\n",
        "f_r.update_cell(12,3,Transportation)\n",
        "f_r.update_cell(13,3,Social_Life)\n",
        "f_r.update_cell(14,3,Household)\n",
        "f_r.update_cell(15,3,Apparel)\n",
        "f_r.update_cell(16,3,Education)\n",
        "f_r.update_cell(17,3,Salary)\n",
        "f_r.update_cell(18,3,Allowance)\n",
        "f_r.update_cell(19,3,Beauty)\n",
        "f_r.update_cell(20,3,Gift)\n",
        "f_r.update_cell(21,3,Petty_cash)"
      ]
    },
    {
      "cell_type": "markdown",
      "id": "fed69bef",
      "metadata": {
        "id": "fed69bef"
      },
      "source": [
        "### Available for investment = Net Income - Net Expense(this has to be populated through python formula and not excel formula) "
      ]
    },
    {
      "cell_type": "code",
      "execution_count": null,
      "id": "b807c594",
      "metadata": {
        "id": "b807c594"
      },
      "outputs": [],
      "source": [
        "Available_for_investment = net_income - net_expense"
      ]
    },
    {
      "cell_type": "code",
      "execution_count": null,
      "id": "d98c55b6",
      "metadata": {
        "id": "d98c55b6",
        "outputId": "16af2f56-38f8-45d5-bd00-55c90fd53063"
      },
      "outputs": [
        {
          "data": {
            "text/plain": [
              "{'spreadsheetId': '1dlArNE_7-2XCSCrR9dEgIM72FZ0GEsndF3hng9XOp0M',\n",
              " 'updatedRange': 'Sheet1!C24',\n",
              " 'updatedRows': 1,\n",
              " 'updatedColumns': 1,\n",
              " 'updatedCells': 1}"
            ]
          },
          "execution_count": 27,
          "metadata": {},
          "output_type": "execute_result"
        }
      ],
      "source": [
        "f_r.update_cell(24,3,Available_for_investment)"
      ]
    },
    {
      "cell_type": "code",
      "execution_count": null,
      "id": "1cc2105b",
      "metadata": {
        "id": "1cc2105b",
        "outputId": "d254311d-7ab3-43e9-8a88-3c4fb1c034f5"
      },
      "outputs": [
        {
          "data": {
            "text/html": [
              "<div>\n",
              "<style scoped>\n",
              "    .dataframe tbody tr th:only-of-type {\n",
              "        vertical-align: middle;\n",
              "    }\n",
              "\n",
              "    .dataframe tbody tr th {\n",
              "        vertical-align: top;\n",
              "    }\n",
              "\n",
              "    .dataframe thead th {\n",
              "        text-align: right;\n",
              "    }\n",
              "</style>\n",
              "<table border=\"1\" class=\"dataframe\">\n",
              "  <thead>\n",
              "    <tr style=\"text-align: right;\">\n",
              "      <th></th>\n",
              "      <th>0</th>\n",
              "      <th>1</th>\n",
              "      <th>2</th>\n",
              "      <th>3</th>\n",
              "      <th>4</th>\n",
              "      <th>5</th>\n",
              "      <th>6</th>\n",
              "      <th>7</th>\n",
              "      <th>8</th>\n",
              "      <th>9</th>\n",
              "      <th>...</th>\n",
              "      <th>32</th>\n",
              "      <th>33</th>\n",
              "      <th>34</th>\n",
              "      <th>35</th>\n",
              "      <th>36</th>\n",
              "      <th>37</th>\n",
              "      <th>38</th>\n",
              "      <th>39</th>\n",
              "      <th>40</th>\n",
              "      <th>41</th>\n",
              "    </tr>\n",
              "  </thead>\n",
              "  <tbody>\n",
              "    <tr>\n",
              "      <th>0</th>\n",
              "      <td>Hello world</td>\n",
              "      <td>BSE_code</td>\n",
              "      <td>NSE_code</td>\n",
              "      <td>ISIN</td>\n",
              "      <td>Sector</td>\n",
              "      <td>Industry</td>\n",
              "      <td>Date</td>\n",
              "      <td>Price</td>\n",
              "      <td>_1_day_change_per</td>\n",
              "      <td>_52_Week_Low</td>\n",
              "      <td>...</td>\n",
              "      <td>Dividend_Yield_per</td>\n",
              "      <td>EV_/_EBITDA</td>\n",
              "      <td>Price_/_Sales</td>\n",
              "      <td>Price_/_Cash_Flow</td>\n",
              "      <td>Earning_Per_Share</td>\n",
              "      <td>Book_Value_Per_Share</td>\n",
              "      <td>Cash_Flow_Per_Share</td>\n",
              "      <td>Free_Cash_Flow_Per_Share</td>\n",
              "      <td>Dividend_Per_Share</td>\n",
              "      <td>Delta</td>\n",
              "    </tr>\n",
              "    <tr>\n",
              "      <th>1</th>\n",
              "      <td>Sanofi India Ltd.</td>\n",
              "      <td>500674</td>\n",
              "      <td>SANOFI</td>\n",
              "      <td>INE058A01010</td>\n",
              "      <td>Healthcare</td>\n",
              "      <td>Drugs &amp; Pharma</td>\n",
              "      <td>2022-09-05</td>\n",
              "      <td>6158.70</td>\n",
              "      <td>0.59</td>\n",
              "      <td>6086.30</td>\n",
              "      <td>...</td>\n",
              "      <td>7.95</td>\n",
              "      <td>16.68</td>\n",
              "      <td>4.98</td>\n",
              "      <td>25.39</td>\n",
              "      <td>425.09</td>\n",
              "      <td>631.65</td>\n",
              "      <td>242.96</td>\n",
              "      <td>459.22</td>\n",
              "      <td>490.00</td>\n",
              "      <td>0.28</td>\n",
              "    </tr>\n",
              "    <tr>\n",
              "      <th>2</th>\n",
              "      <td>Page Industries Ltd.</td>\n",
              "      <td>532827</td>\n",
              "      <td>PAGEIND</td>\n",
              "      <td>INE761H01022</td>\n",
              "      <td>Textiles</td>\n",
              "      <td>Readymade Garments</td>\n",
              "      <td>2022-09-05</td>\n",
              "      <td>49786.20</td>\n",
              "      <td>-0.26</td>\n",
              "      <td>31500.00</td>\n",
              "      <td>...</td>\n",
              "      <td>0.74</td>\n",
              "      <td>51.79</td>\n",
              "      <td>11.75</td>\n",
              "      <td>169.84</td>\n",
              "      <td>656.83</td>\n",
              "      <td>1161.63</td>\n",
              "      <td>293.09</td>\n",
              "      <td>191.03</td>\n",
              "      <td>370.00</td>\n",
              "      <td>0.03</td>\n",
              "    </tr>\n",
              "    <tr>\n",
              "      <th>3</th>\n",
              "      <td>Procter &amp; Gamble Hygiene &amp; Health Care Ltd.</td>\n",
              "      <td>500459</td>\n",
              "      <td>PGHH</td>\n",
              "      <td>INE179A01014</td>\n",
              "      <td>Consumer Staples</td>\n",
              "      <td>Household &amp; Personal Products</td>\n",
              "      <td>2022-09-05</td>\n",
              "      <td>14125.65</td>\n",
              "      <td>0.24</td>\n",
              "      <td>12801.00</td>\n",
              "      <td>...</td>\n",
              "      <td>1.13</td>\n",
              "      <td>52.71</td>\n",
              "      <td>12.10</td>\n",
              "      <td>53.17</td>\n",
              "      <td>177.37</td>\n",
              "      <td>227.22</td>\n",
              "      <td>265.90</td>\n",
              "      <td>270.47</td>\n",
              "      <td>315.00</td>\n",
              "      <td>0.14</td>\n",
              "    </tr>\n",
              "    <tr>\n",
              "      <th>4</th>\n",
              "      <td>Abbott India Ltd.</td>\n",
              "      <td>500488</td>\n",
              "      <td>ABBOTINDIA</td>\n",
              "      <td>INE358A01014</td>\n",
              "      <td>Healthcare</td>\n",
              "      <td>Drugs &amp; Pharma</td>\n",
              "      <td>2022-09-05</td>\n",
              "      <td>18209.00</td>\n",
              "      <td>-1.26</td>\n",
              "      <td>15514.00</td>\n",
              "      <td>...</td>\n",
              "      <td>1.51</td>\n",
              "      <td>30.98</td>\n",
              "      <td>7.73</td>\n",
              "      <td>40.84</td>\n",
              "      <td>380.52</td>\n",
              "      <td>1403.00</td>\n",
              "      <td>445.96</td>\n",
              "      <td>446.90</td>\n",
              "      <td>275.00</td>\n",
              "      <td>0.24</td>\n",
              "    </tr>\n",
              "    <tr>\n",
              "      <th>...</th>\n",
              "      <td>...</td>\n",
              "      <td>...</td>\n",
              "      <td>...</td>\n",
              "      <td>...</td>\n",
              "      <td>...</td>\n",
              "      <td>...</td>\n",
              "      <td>...</td>\n",
              "      <td>...</td>\n",
              "      <td>...</td>\n",
              "      <td>...</td>\n",
              "      <td>...</td>\n",
              "      <td>...</td>\n",
              "      <td>...</td>\n",
              "      <td>...</td>\n",
              "      <td>...</td>\n",
              "      <td>...</td>\n",
              "      <td>...</td>\n",
              "      <td>...</td>\n",
              "      <td>...</td>\n",
              "      <td>...</td>\n",
              "      <td>...</td>\n",
              "    </tr>\n",
              "    <tr>\n",
              "      <th>497</th>\n",
              "      <td>Westlife Development Ltd.</td>\n",
              "      <td>505533</td>\n",
              "      <td>WESTLIFE</td>\n",
              "      <td>INE274F01020</td>\n",
              "      <td>Services</td>\n",
              "      <td>Restaurants</td>\n",
              "      <td>2022-09-05</td>\n",
              "      <td>650.05</td>\n",
              "      <td>0.82</td>\n",
              "      <td>402.30</td>\n",
              "      <td>...</td>\n",
              "      <td>0.00</td>\n",
              "      <td>34.06</td>\n",
              "      <td>7.81</td>\n",
              "      <td>59.43</td>\n",
              "      <td>3.55</td>\n",
              "      <td>30.99</td>\n",
              "      <td>10.94</td>\n",
              "      <td>1.29</td>\n",
              "      <td>0.00</td>\n",
              "      <td>0.05</td>\n",
              "    </tr>\n",
              "    <tr>\n",
              "      <th>498</th>\n",
              "      <td>Wockhardt Ltd.</td>\n",
              "      <td>532300</td>\n",
              "      <td>WOCKPHARMA</td>\n",
              "      <td>INE049B01025</td>\n",
              "      <td>Healthcare</td>\n",
              "      <td>Drugs &amp; Pharma</td>\n",
              "      <td>2022-09-05</td>\n",
              "      <td>242.70</td>\n",
              "      <td>3.01</td>\n",
              "      <td>201.50</td>\n",
              "      <td>...</td>\n",
              "      <td>0.00</td>\n",
              "      <td>20.50</td>\n",
              "      <td>1.18</td>\n",
              "      <td>8.48</td>\n",
              "      <td>-20.70</td>\n",
              "      <td>260.73</td>\n",
              "      <td>28.68</td>\n",
              "      <td>8.54</td>\n",
              "      <td>0.00</td>\n",
              "      <td>0.51</td>\n",
              "    </tr>\n",
              "    <tr>\n",
              "      <th>499</th>\n",
              "      <td>Yes Bank Ltd.</td>\n",
              "      <td>532648</td>\n",
              "      <td>YESBANK</td>\n",
              "      <td>INE528G01035</td>\n",
              "      <td>Financial</td>\n",
              "      <td>Banking</td>\n",
              "      <td>2022-09-05</td>\n",
              "      <td>16.65</td>\n",
              "      <td>2.78</td>\n",
              "      <td>10.80</td>\n",
              "      <td>...</td>\n",
              "      <td>0.00</td>\n",
              "      <td>23.87</td>\n",
              "      <td>2.13</td>\n",
              "      <td>1.77</td>\n",
              "      <td>0.47</td>\n",
              "      <td>13.61</td>\n",
              "      <td>9.42</td>\n",
              "      <td>7.86</td>\n",
              "      <td>0.00</td>\n",
              "      <td>0.07</td>\n",
              "    </tr>\n",
              "    <tr>\n",
              "      <th>500</th>\n",
              "      <td>Zomato Ltd.</td>\n",
              "      <td>543320</td>\n",
              "      <td>ZOMATO</td>\n",
              "      <td>INE758T01015</td>\n",
              "      <td>Services</td>\n",
              "      <td>E-Commerce</td>\n",
              "      <td>2022-09-05</td>\n",
              "      <td>59.65</td>\n",
              "      <td>-0.17</td>\n",
              "      <td>40.60</td>\n",
              "      <td>...</td>\n",
              "      <td>0.00</td>\n",
              "      <td>-40.17</td>\n",
              "      <td>10.71</td>\n",
              "      <td>-73.58</td>\n",
              "      <td>-1.21</td>\n",
              "      <td>23.01</td>\n",
              "      <td>-0.91</td>\n",
              "      <td>-1.16</td>\n",
              "      <td>0.00</td>\n",
              "      <td>0.65</td>\n",
              "    </tr>\n",
              "    <tr>\n",
              "      <th>501</th>\n",
              "      <td>Tata Motors DVR</td>\n",
              "      <td>570001</td>\n",
              "      <td>TATAMTRDVR</td>\n",
              "      <td>IN9155A01020</td>\n",
              "      <td>Automobile</td>\n",
              "      <td>Commercial Vehicles</td>\n",
              "      <td>2022-09-05</td>\n",
              "      <td>227.80</td>\n",
              "      <td>-0.96</td>\n",
              "      <td>137.50</td>\n",
              "      <td>...</td>\n",
              "      <td>0.00</td>\n",
              "      <td></td>\n",
              "      <td></td>\n",
              "      <td></td>\n",
              "      <td></td>\n",
              "      <td></td>\n",
              "      <td></td>\n",
              "      <td></td>\n",
              "      <td></td>\n",
              "      <td>0.24</td>\n",
              "    </tr>\n",
              "  </tbody>\n",
              "</table>\n",
              "<p>502 rows × 42 columns</p>\n",
              "</div>"
            ],
            "text/plain": [
              "                                              0         1           2   \\\n",
              "0                                    Hello world  BSE_code    NSE_code   \n",
              "1                              Sanofi India Ltd.    500674      SANOFI   \n",
              "2                           Page Industries Ltd.    532827     PAGEIND   \n",
              "3    Procter & Gamble Hygiene & Health Care Ltd.    500459        PGHH   \n",
              "4                              Abbott India Ltd.    500488  ABBOTINDIA   \n",
              "..                                           ...       ...         ...   \n",
              "497                    Westlife Development Ltd.    505533    WESTLIFE   \n",
              "498                               Wockhardt Ltd.    532300  WOCKPHARMA   \n",
              "499                                Yes Bank Ltd.    532648     YESBANK   \n",
              "500                                  Zomato Ltd.    543320      ZOMATO   \n",
              "501                              Tata Motors DVR    570001  TATAMTRDVR   \n",
              "\n",
              "               3                 4                              5   \\\n",
              "0            ISIN            Sector                       Industry   \n",
              "1    INE058A01010        Healthcare                 Drugs & Pharma   \n",
              "2    INE761H01022          Textiles             Readymade Garments   \n",
              "3    INE179A01014  Consumer Staples  Household & Personal Products   \n",
              "4    INE358A01014        Healthcare                 Drugs & Pharma   \n",
              "..            ...               ...                            ...   \n",
              "497  INE274F01020          Services                    Restaurants   \n",
              "498  INE049B01025        Healthcare                 Drugs & Pharma   \n",
              "499  INE528G01035         Financial                        Banking   \n",
              "500  INE758T01015          Services                     E-Commerce   \n",
              "501  IN9155A01020        Automobile            Commercial Vehicles   \n",
              "\n",
              "             6         7                  8             9   ...  \\\n",
              "0          Date     Price  _1_day_change_per  _52_Week_Low  ...   \n",
              "1    2022-09-05   6158.70               0.59       6086.30  ...   \n",
              "2    2022-09-05  49786.20              -0.26      31500.00  ...   \n",
              "3    2022-09-05  14125.65               0.24      12801.00  ...   \n",
              "4    2022-09-05  18209.00              -1.26      15514.00  ...   \n",
              "..          ...       ...                ...           ...  ...   \n",
              "497  2022-09-05    650.05               0.82        402.30  ...   \n",
              "498  2022-09-05    242.70               3.01        201.50  ...   \n",
              "499  2022-09-05     16.65               2.78         10.80  ...   \n",
              "500  2022-09-05     59.65              -0.17         40.60  ...   \n",
              "501  2022-09-05    227.80              -0.96        137.50  ...   \n",
              "\n",
              "                     32           33             34                 35  \\\n",
              "0    Dividend_Yield_per  EV_/_EBITDA  Price_/_Sales  Price_/_Cash_Flow   \n",
              "1                  7.95        16.68           4.98              25.39   \n",
              "2                  0.74        51.79          11.75             169.84   \n",
              "3                  1.13        52.71          12.10              53.17   \n",
              "4                  1.51        30.98           7.73              40.84   \n",
              "..                  ...          ...            ...                ...   \n",
              "497                0.00        34.06           7.81              59.43   \n",
              "498                0.00        20.50           1.18               8.48   \n",
              "499                0.00        23.87           2.13               1.77   \n",
              "500                0.00       -40.17          10.71             -73.58   \n",
              "501                0.00                                                  \n",
              "\n",
              "                    36                    37                   38  \\\n",
              "0    Earning_Per_Share  Book_Value_Per_Share  Cash_Flow_Per_Share   \n",
              "1               425.09                631.65               242.96   \n",
              "2               656.83               1161.63               293.09   \n",
              "3               177.37                227.22               265.90   \n",
              "4               380.52               1403.00               445.96   \n",
              "..                 ...                   ...                  ...   \n",
              "497               3.55                 30.99                10.94   \n",
              "498             -20.70                260.73                28.68   \n",
              "499               0.47                 13.61                 9.42   \n",
              "500              -1.21                 23.01                -0.91   \n",
              "501                                                                 \n",
              "\n",
              "                           39                  40     41  \n",
              "0    Free_Cash_Flow_Per_Share  Dividend_Per_Share  Delta  \n",
              "1                      459.22              490.00   0.28  \n",
              "2                      191.03              370.00   0.03  \n",
              "3                      270.47              315.00   0.14  \n",
              "4                      446.90              275.00   0.24  \n",
              "..                        ...                 ...    ...  \n",
              "497                      1.29                0.00   0.05  \n",
              "498                      8.54                0.00   0.51  \n",
              "499                      7.86                0.00   0.07  \n",
              "500                     -1.16                0.00   0.65  \n",
              "501                                                 0.24  \n",
              "\n",
              "[502 rows x 42 columns]"
            ]
          },
          "execution_count": 28,
          "metadata": {},
          "output_type": "execute_result"
        }
      ],
      "source": [
        "BSE500"
      ]
    },
    {
      "cell_type": "code",
      "execution_count": null,
      "id": "62f59fb0",
      "metadata": {
        "id": "62f59fb0"
      },
      "outputs": [],
      "source": [
        "new_header2 = BSE500.iloc[0]\n",
        "new_header2\n",
        "BSE500 = BSE500[1:]\n",
        "BSE500.columns = new_header2"
      ]
    },
    {
      "cell_type": "code",
      "execution_count": null,
      "id": "657cd412",
      "metadata": {
        "id": "657cd412",
        "outputId": "4d489fc1-d3a1-4c3d-fb88-02f4df05a1af"
      },
      "outputs": [
        {
          "data": {
            "text/plain": [
              "0\n",
              "Hello world                 object\n",
              "BSE_code                    object\n",
              "NSE_code                    object\n",
              "ISIN                        object\n",
              "Sector                      object\n",
              "Industry                    object\n",
              "Date                        object\n",
              "Price                       object\n",
              "_1_day_change_per           object\n",
              "_52_Week_Low                object\n",
              "_52_Week_High               object\n",
              "_3_Year_Low                 object\n",
              "_3_Year_High                object\n",
              "_5_Year_Low                 object\n",
              "_5_Year_High                object\n",
              "All_Time_Low                object\n",
              "All_Time_High               object\n",
              "Market_Cap_Cr               object\n",
              "Enterprise_Value_Cr         object\n",
              "_1_Week_Return              object\n",
              "_1_Month_Return             object\n",
              "_3_Month_Return_per         object\n",
              "_1_Year_Return_per          object\n",
              "_3_Year_Return              object\n",
              "_5_Year_Return_per          object\n",
              "_10_Year_Return_per         object\n",
              "Price_to_Earnings           object\n",
              "Median_P/E                  object\n",
              "Price_to_Book               object\n",
              "Median_P/B                  object\n",
              "Earning_Yield_per           object\n",
              "Price_earnings_to_growth    object\n",
              "Dividend_Yield_per          object\n",
              "EV_/_EBITDA                 object\n",
              "Price_/_Sales               object\n",
              "Price_/_Cash_Flow           object\n",
              "Earning_Per_Share           object\n",
              "Book_Value_Per_Share        object\n",
              "Cash_Flow_Per_Share         object\n",
              "Free_Cash_Flow_Per_Share    object\n",
              "Dividend_Per_Share          object\n",
              "Delta                       object\n",
              "dtype: object"
            ]
          },
          "execution_count": 30,
          "metadata": {},
          "output_type": "execute_result"
        }
      ],
      "source": [
        "BSE500.dtypes"
      ]
    },
    {
      "cell_type": "code",
      "execution_count": null,
      "id": "75b21b88",
      "metadata": {
        "id": "75b21b88"
      },
      "outputs": [],
      "source": [
        "BSE500 = BSE500.replace(r'^\\s*$', np.nan, regex=True)"
      ]
    },
    {
      "cell_type": "code",
      "execution_count": null,
      "id": "83e823dc",
      "metadata": {
        "id": "83e823dc"
      },
      "outputs": [],
      "source": [
        "BSE500['Price'] = BSE500['Price'].astype(float)\n",
        "BSE500['_1_day_change_per'] = BSE500['_1_day_change_per'].astype(float)\n",
        "BSE500['_52_Week_Low'] = BSE500['_52_Week_Low'].astype(float)\n",
        "BSE500['_52_Week_High'] = BSE500['_52_Week_High'].astype(float)\n",
        "BSE500['_3_Year_Low'] = BSE500['_3_Year_Low'].astype(float)\n",
        "BSE500['_3_Year_High'] = BSE500['_3_Year_High'].astype(float)\n",
        "BSE500['_5_Year_Low'] = BSE500['_5_Year_Low'].astype(float)\n",
        "BSE500['_5_Year_High'] = BSE500['_5_Year_High'].astype(float)\n",
        "BSE500['All_Time_Low'] = BSE500['All_Time_Low'].astype(float)\n",
        "BSE500['All_Time_High'] = BSE500['All_Time_High'].astype(float)\n",
        "BSE500['Market_Cap_Cr'] = BSE500['Market_Cap_Cr'].astype(float)\n",
        "BSE500['Enterprise_Value_Cr'] = BSE500['Enterprise_Value_Cr'].astype(float)\n",
        "BSE500['_1_Week_Return'] = BSE500['_1_Week_Return'].astype(float)\n",
        "BSE500['_1_Month_Return'] = BSE500['_1_Month_Return'].astype(float)\n",
        "BSE500['_3_Month_Return_per'] = BSE500['_3_Month_Return_per'].astype(float)\n",
        "BSE500['_1_Year_Return_per'] = BSE500['_1_Year_Return_per'].astype(float)\n",
        "BSE500['_3_Year_Return'] = BSE500['_3_Year_Return'].astype(float)\n",
        "BSE500['_5_Year_Return_per'] = BSE500['_5_Year_Return_per'].astype(float)\n",
        "BSE500['_10_Year_Return_per'] = BSE500['_10_Year_Return_per'].astype(float)\n",
        "BSE500['Price_to_Earnings'] = BSE500['Price_to_Earnings'].astype(float)\n",
        "BSE500['Median_P/E'] = BSE500['Median_P/E'].astype(float)\n",
        "BSE500['Price_to_Book'] = BSE500['Price_to_Book'].astype(float)\n",
        "BSE500['Median_P/B'] = BSE500['Median_P/B'].astype(float)\n",
        "BSE500['Earning_Yield_per'] = BSE500['Earning_Yield_per'].astype(float)\n",
        "BSE500['Price_earnings_to_growth'] = BSE500['Price_earnings_to_growth'].astype(float)\n",
        "BSE500['Dividend_Yield_per'] = BSE500['Dividend_Yield_per'].astype(float)\n",
        "BSE500['EV_/_EBITDA'] = BSE500['EV_/_EBITDA'].astype(float)\n",
        "BSE500['Price_/_Sales'] = BSE500['Price_/_Sales'].astype(float)\n",
        "BSE500['Price_/_Cash_Flow'] = BSE500['Price_/_Cash_Flow'].astype(float)\n",
        "BSE500['Earning_Per_Share'] = BSE500['Earning_Per_Share'].astype(float)\n",
        "BSE500['Book_Value_Per_Share'] = BSE500['Book_Value_Per_Share'].astype(float)\n",
        "BSE500['Cash_Flow_Per_Share'] = BSE500['Cash_Flow_Per_Share'].astype(float)\n",
        "BSE500['Free_Cash_Flow_Per_Share'] = BSE500['Free_Cash_Flow_Per_Share'].astype(float)\n",
        "BSE500['Dividend_Per_Share'] = BSE500['Dividend_Per_Share'].astype(float)\n",
        "BSE500['Delta'] = BSE500['Delta'].astype(float)"
      ]
    },
    {
      "cell_type": "code",
      "execution_count": null,
      "id": "73159ec8",
      "metadata": {
        "id": "73159ec8",
        "outputId": "8aa3cb82-eb96-4caa-e551-83db2a95d5e8"
      },
      "outputs": [
        {
          "data": {
            "text/plain": [
              "0\n",
              "Hello world                  object\n",
              "BSE_code                     object\n",
              "NSE_code                     object\n",
              "ISIN                         object\n",
              "Sector                       object\n",
              "Industry                     object\n",
              "Date                         object\n",
              "Price                       float64\n",
              "_1_day_change_per           float64\n",
              "_52_Week_Low                float64\n",
              "_52_Week_High               float64\n",
              "_3_Year_Low                 float64\n",
              "_3_Year_High                float64\n",
              "_5_Year_Low                 float64\n",
              "_5_Year_High                float64\n",
              "All_Time_Low                float64\n",
              "All_Time_High               float64\n",
              "Market_Cap_Cr               float64\n",
              "Enterprise_Value_Cr         float64\n",
              "_1_Week_Return              float64\n",
              "_1_Month_Return             float64\n",
              "_3_Month_Return_per         float64\n",
              "_1_Year_Return_per          float64\n",
              "_3_Year_Return              float64\n",
              "_5_Year_Return_per          float64\n",
              "_10_Year_Return_per         float64\n",
              "Price_to_Earnings           float64\n",
              "Median_P/E                  float64\n",
              "Price_to_Book               float64\n",
              "Median_P/B                  float64\n",
              "Earning_Yield_per           float64\n",
              "Price_earnings_to_growth    float64\n",
              "Dividend_Yield_per          float64\n",
              "EV_/_EBITDA                 float64\n",
              "Price_/_Sales               float64\n",
              "Price_/_Cash_Flow           float64\n",
              "Earning_Per_Share           float64\n",
              "Book_Value_Per_Share        float64\n",
              "Cash_Flow_Per_Share         float64\n",
              "Free_Cash_Flow_Per_Share    float64\n",
              "Dividend_Per_Share          float64\n",
              "Delta                       float64\n",
              "dtype: object"
            ]
          },
          "execution_count": 33,
          "metadata": {},
          "output_type": "execute_result"
        }
      ],
      "source": [
        "BSE500.dtypes"
      ]
    },
    {
      "cell_type": "markdown",
      "id": "5a41e7d3",
      "metadata": {
        "id": "5a41e7d3"
      },
      "source": [
        "### Make a new column in Gsheet 1 named “Delta” and populate it with (52 Week High - price)/(52 week High)"
      ]
    },
    {
      "cell_type": "code",
      "execution_count": null,
      "id": "7811c41c",
      "metadata": {
        "id": "7811c41c"
      },
      "outputs": [],
      "source": [
        "BSE500\n",
        "l = list((BSE500['_52_Week_High'] - BSE500['Price'])/(BSE500['_52_Week_High']))"
      ]
    },
    {
      "cell_type": "code",
      "execution_count": null,
      "id": "10dd3740",
      "metadata": {
        "id": "10dd3740",
        "outputId": "7cf852dc-9dfc-4691-ed52-c95d542afb08"
      },
      "outputs": [
        {
          "data": {
            "text/plain": [
              "{'spreadsheetId': '1fdVdlmTPiFCY3FjTSntKBB_dZALveY4AF-tbhVTvJ5I',\n",
              " 'updatedRange': \"'bse500'!AP2:AP502\",\n",
              " 'updatedRows': 501,\n",
              " 'updatedColumns': 1,\n",
              " 'updatedCells': 501}"
            ]
          },
          "execution_count": 35,
          "metadata": {},
          "output_type": "execute_result"
        }
      ],
      "source": [
        "cell_list = bse500.range('AP2:AP502')\n",
        "cell_values = l\n",
        "\n",
        "for i, val in enumerate(cell_values):  #gives us a tuple of an index and value\n",
        "    cell_list[i].value = val    #use the index on cell_list and the val from cell_values\n",
        "\n",
        "bse500.update_cells(cell_list)"
      ]
    },
    {
      "cell_type": "code",
      "execution_count": null,
      "id": "a0d7310d",
      "metadata": {
        "id": "a0d7310d",
        "outputId": "3a42bd51-a9b8-4d64-d694-e6e617f278b5"
      },
      "outputs": [
        {
          "data": {
            "text/html": [
              "<div>\n",
              "<style scoped>\n",
              "    .dataframe tbody tr th:only-of-type {\n",
              "        vertical-align: middle;\n",
              "    }\n",
              "\n",
              "    .dataframe tbody tr th {\n",
              "        vertical-align: top;\n",
              "    }\n",
              "\n",
              "    .dataframe thead th {\n",
              "        text-align: right;\n",
              "    }\n",
              "</style>\n",
              "<table border=\"1\" class=\"dataframe\">\n",
              "  <thead>\n",
              "    <tr style=\"text-align: right;\">\n",
              "      <th></th>\n",
              "      <th>Hello world</th>\n",
              "      <th>BSE_code</th>\n",
              "      <th>NSE_code</th>\n",
              "      <th>ISIN</th>\n",
              "      <th>Sector</th>\n",
              "      <th>Industry</th>\n",
              "      <th>Date</th>\n",
              "      <th>Price</th>\n",
              "      <th>_1_day_change_per</th>\n",
              "      <th>_52_Week_Low</th>\n",
              "      <th>...</th>\n",
              "      <th>Dividend_Yield_per</th>\n",
              "      <th>EV_/_EBITDA</th>\n",
              "      <th>Price_/_Sales</th>\n",
              "      <th>Price_/_Cash_Flow</th>\n",
              "      <th>Earning_Per_Share</th>\n",
              "      <th>Book_Value_Per_Share</th>\n",
              "      <th>Cash_Flow_Per_Share</th>\n",
              "      <th>Free_Cash_Flow_Per_Share</th>\n",
              "      <th>Dividend_Per_Share</th>\n",
              "      <th>Delta</th>\n",
              "    </tr>\n",
              "  </thead>\n",
              "  <tbody>\n",
              "    <tr>\n",
              "      <th>1</th>\n",
              "      <td>Sanofi India Ltd.</td>\n",
              "      <td>500674</td>\n",
              "      <td>SANOFI</td>\n",
              "      <td>INE058A01010</td>\n",
              "      <td>Healthcare</td>\n",
              "      <td>Drugs &amp; Pharma</td>\n",
              "      <td>2022-09-05</td>\n",
              "      <td>6158.7</td>\n",
              "      <td>0.59</td>\n",
              "      <td>6086.3</td>\n",
              "      <td>...</td>\n",
              "      <td>7.95</td>\n",
              "      <td>16.68</td>\n",
              "      <td>4.98</td>\n",
              "      <td>25.39</td>\n",
              "      <td>425.09</td>\n",
              "      <td>631.65</td>\n",
              "      <td>242.96</td>\n",
              "      <td>459.22</td>\n",
              "      <td>490.0</td>\n",
              "      <td>0.28</td>\n",
              "    </tr>\n",
              "  </tbody>\n",
              "</table>\n",
              "<p>1 rows × 42 columns</p>\n",
              "</div>"
            ],
            "text/plain": [
              "0        Hello world BSE_code NSE_code          ISIN      Sector  \\\n",
              "1  Sanofi India Ltd.   500674   SANOFI  INE058A01010  Healthcare   \n",
              "\n",
              "0        Industry        Date   Price  _1_day_change_per  _52_Week_Low  ...  \\\n",
              "1  Drugs & Pharma  2022-09-05  6158.7               0.59        6086.3  ...   \n",
              "\n",
              "0  Dividend_Yield_per  EV_/_EBITDA  Price_/_Sales  Price_/_Cash_Flow  \\\n",
              "1                7.95        16.68           4.98              25.39   \n",
              "\n",
              "0  Earning_Per_Share  Book_Value_Per_Share  Cash_Flow_Per_Share  \\\n",
              "1             425.09                631.65               242.96   \n",
              "\n",
              "0  Free_Cash_Flow_Per_Share  Dividend_Per_Share  Delta  \n",
              "1                    459.22               490.0   0.28  \n",
              "\n",
              "[1 rows x 42 columns]"
            ]
          },
          "execution_count": 36,
          "metadata": {},
          "output_type": "execute_result"
        }
      ],
      "source": [
        "BSE500.head(1)"
      ]
    },
    {
      "cell_type": "code",
      "execution_count": null,
      "id": "0dc2a749",
      "metadata": {
        "id": "0dc2a749"
      },
      "outputs": [],
      "source": [
        "# q1 = '''\n",
        "# SELECT Hello_world FROM BSE500 \n",
        "# WHERE Delta > 0 AND Market_Cap(Cr) < 2000 AND _10-Year_Return_per<8\n",
        "# ORDER BY Dividend_Per_Share'''"
      ]
    },
    {
      "cell_type": "code",
      "execution_count": null,
      "id": "3b2e284e",
      "metadata": {
        "id": "3b2e284e"
      },
      "outputs": [],
      "source": [
        "# print(ps.sqldf(q1,locals()))\n",
        "# df.sort_values(by=['Dividend_Per_Share'])"
      ]
    },
    {
      "cell_type": "markdown",
      "id": "84db85ea",
      "metadata": {
        "id": "84db85ea"
      },
      "source": [
        "#### High Risk Taking"
      ]
    },
    {
      "cell_type": "code",
      "execution_count": null,
      "id": "ac540fb2",
      "metadata": {
        "id": "ac540fb2"
      },
      "outputs": [],
      "source": [
        "hrt = list((BSE500[(BSE500.Delta>0) & (BSE500.Market_Cap_Cr<5000) & (BSE500._10_Year_Return_per<8)].sort_values(by=['Dividend_Per_Share'],ascending=False).head(5)['Hello world']))"
      ]
    },
    {
      "cell_type": "code",
      "execution_count": null,
      "id": "63765511",
      "metadata": {
        "id": "63765511",
        "outputId": "938b6bb4-1421-4bba-fc92-562ce83af2fa"
      },
      "outputs": [
        {
          "data": {
            "text/plain": [
              "['VST Industries Limited',\n",
              " 'MOIL Ltd.',\n",
              " 'Gujarat Pipavav Port Ltd',\n",
              " 'Rallis India Ltd.',\n",
              " 'Engineers India Ltd.']"
            ]
          },
          "execution_count": 40,
          "metadata": {},
          "output_type": "execute_result"
        }
      ],
      "source": [
        "hrt"
      ]
    },
    {
      "cell_type": "code",
      "execution_count": null,
      "id": "6e1866fb",
      "metadata": {
        "id": "6e1866fb",
        "outputId": "4f1442b8-65a2-41cb-e592-d2663a18de43"
      },
      "outputs": [
        {
          "data": {
            "text/plain": [
              "{'spreadsheetId': '1dlArNE_7-2XCSCrR9dEgIM72FZ0GEsndF3hng9XOp0M',\n",
              " 'updatedRange': 'Sheet1!F26:F30',\n",
              " 'updatedRows': 5,\n",
              " 'updatedColumns': 1,\n",
              " 'updatedCells': 5}"
            ]
          },
          "execution_count": 41,
          "metadata": {},
          "output_type": "execute_result"
        }
      ],
      "source": [
        "cell_list = f_r.range('F26:F30')\n",
        "cell_values = hrt\n",
        "\n",
        "for i, val in enumerate(cell_values):  #gives us a tuple of an index and value\n",
        "    cell_list[i].value = val    #use the index on cell_list and the val from cell_values\n",
        "\n",
        "f_r.update_cells(cell_list)"
      ]
    },
    {
      "cell_type": "markdown",
      "id": "f2021793",
      "metadata": {
        "id": "f2021793"
      },
      "source": [
        "#### Risk Taking"
      ]
    },
    {
      "cell_type": "code",
      "execution_count": null,
      "id": "47fc8d4c",
      "metadata": {
        "id": "47fc8d4c"
      },
      "outputs": [],
      "source": [
        "rt = list((BSE500[(BSE500.Delta>0) & (BSE500.Market_Cap_Cr.between(5000,8000)) & (BSE500._10_Year_Return_per.between(8,15))].sort_values(by=['Dividend_Per_Share'],ascending=False).head(5)['Hello world']))"
      ]
    },
    {
      "cell_type": "code",
      "execution_count": null,
      "id": "e3a0e0e3",
      "metadata": {
        "id": "e3a0e0e3",
        "outputId": "a9f9be2b-8451-4260-f63d-47353020b187"
      },
      "outputs": [
        {
          "data": {
            "text/plain": [
              "['The Great Eastern Shipping Company Ltd.',\n",
              " 'Welspun Corp Ltd.',\n",
              " 'Jyothy Labs Ltd.',\n",
              " 'Gujarat State Fertilizers & Chemicals Ltd.',\n",
              " 'Sunteck Realty Ltd.']"
            ]
          },
          "execution_count": 43,
          "metadata": {},
          "output_type": "execute_result"
        }
      ],
      "source": [
        "rt"
      ]
    },
    {
      "cell_type": "code",
      "execution_count": null,
      "id": "c79ab445",
      "metadata": {
        "id": "c79ab445",
        "outputId": "3889ee6e-0f9b-401b-eb34-a7d1e979dde7"
      },
      "outputs": [
        {
          "data": {
            "text/plain": [
              "{'spreadsheetId': '1dlArNE_7-2XCSCrR9dEgIM72FZ0GEsndF3hng9XOp0M',\n",
              " 'updatedRange': 'Sheet1!F10:F14',\n",
              " 'updatedRows': 5,\n",
              " 'updatedColumns': 1,\n",
              " 'updatedCells': 5}"
            ]
          },
          "execution_count": 44,
          "metadata": {},
          "output_type": "execute_result"
        }
      ],
      "source": [
        "cell_list = f_r.range('F10:F14')\n",
        "cell_values = rt\n",
        "\n",
        "for i, val in enumerate(cell_values):  #gives us a tuple of an index and value\n",
        "    cell_list[i].value = val    #use the index on cell_list and the val from cell_values\n",
        "\n",
        "f_r.update_cells(cell_list)"
      ]
    },
    {
      "cell_type": "markdown",
      "id": "eff17ef8",
      "metadata": {
        "id": "eff17ef8"
      },
      "source": [
        "#### Moderate Risk Taking"
      ]
    },
    {
      "cell_type": "code",
      "execution_count": null,
      "id": "0c13db42",
      "metadata": {
        "id": "0c13db42"
      },
      "outputs": [],
      "source": [
        "mrt = list((BSE500[(BSE500.Delta>0) & (BSE500.Market_Cap_Cr.between(8001,15000)) & (BSE500._10_Year_Return_per.between(16,20))].sort_values(by=['Dividend_Per_Share'],ascending=False).head(5)['Hello world']))"
      ]
    },
    {
      "cell_type": "code",
      "execution_count": null,
      "id": "19e53720",
      "metadata": {
        "id": "19e53720",
        "outputId": "26046f06-2e99-4ff1-8e49-af4fd9ea55cb"
      },
      "outputs": [
        {
          "data": {
            "text/plain": [
              "['Cyient Ltd.',\n",
              " 'Chambal Fertilisers & Chemicals Ltd.',\n",
              " 'BASF India Ltd.',\n",
              " 'Allcargo Logistics Ltd.',\n",
              " 'Mahindra CIE Automotive Ltd.']"
            ]
          },
          "execution_count": 46,
          "metadata": {},
          "output_type": "execute_result"
        }
      ],
      "source": [
        "mrt"
      ]
    },
    {
      "cell_type": "code",
      "execution_count": null,
      "id": "46be59b3",
      "metadata": {
        "id": "46be59b3",
        "outputId": "c05a9e37-40fc-407f-9b3a-a4eec520dab8"
      },
      "outputs": [
        {
          "data": {
            "text/plain": [
              "{'spreadsheetId': '1dlArNE_7-2XCSCrR9dEgIM72FZ0GEsndF3hng9XOp0M',\n",
              " 'updatedRange': 'Sheet1!F18:F22',\n",
              " 'updatedRows': 5,\n",
              " 'updatedColumns': 1,\n",
              " 'updatedCells': 5}"
            ]
          },
          "execution_count": 47,
          "metadata": {},
          "output_type": "execute_result"
        }
      ],
      "source": [
        "cell_list = f_r.range('F18:F22')\n",
        "cell_values = mrt\n",
        "\n",
        "for i, val in enumerate(cell_values):  #gives us a tuple of an index and value\n",
        "    cell_list[i].value = val    #use the index on cell_list and the val from cell_values\n",
        "\n",
        "f_r.update_cells(cell_list)"
      ]
    },
    {
      "cell_type": "markdown",
      "id": "2ecf4f5a",
      "metadata": {
        "id": "2ecf4f5a"
      },
      "source": [
        "#### Low Risk Taking"
      ]
    },
    {
      "cell_type": "code",
      "execution_count": null,
      "id": "4d5f49d3",
      "metadata": {
        "id": "4d5f49d3"
      },
      "outputs": [],
      "source": [
        "lrt = list((BSE500[(BSE500.Delta>0) & (BSE500.Market_Cap_Cr>15000) & (BSE500._10_Year_Return_per>20)].sort_values(by=['Dividend_Per_Share'],ascending=False).head(5)['Hello world']))"
      ]
    },
    {
      "cell_type": "code",
      "execution_count": null,
      "id": "136b88fe",
      "metadata": {
        "id": "136b88fe",
        "outputId": "73e5dcfd-7a81-4b07-ae1a-b4cc0f841dad"
      },
      "outputs": [
        {
          "data": {
            "text/plain": [
              "['Page Industries Ltd.',\n",
              " 'Abbott India Ltd.',\n",
              " 'MRF Ltd.',\n",
              " 'Bajaj Holdings & Investment Ltd.',\n",
              " 'Honeywell Automation India Ltd.']"
            ]
          },
          "execution_count": 49,
          "metadata": {},
          "output_type": "execute_result"
        }
      ],
      "source": [
        "lrt"
      ]
    },
    {
      "cell_type": "code",
      "execution_count": null,
      "id": "fb4b63c0",
      "metadata": {
        "id": "fb4b63c0",
        "outputId": "f7d9fd8f-8d10-43b9-c5a4-331ad1be861c"
      },
      "outputs": [
        {
          "data": {
            "text/plain": [
              "{'spreadsheetId': '1dlArNE_7-2XCSCrR9dEgIM72FZ0GEsndF3hng9XOp0M',\n",
              " 'updatedRange': 'Sheet1!F2:F6',\n",
              " 'updatedRows': 5,\n",
              " 'updatedColumns': 1,\n",
              " 'updatedCells': 5}"
            ]
          },
          "execution_count": 50,
          "metadata": {},
          "output_type": "execute_result"
        }
      ],
      "source": [
        "cell_list = f_r.range('F2:F6')\n",
        "cell_values = lrt\n",
        "\n",
        "for i, val in enumerate(cell_values):  #gives us a tuple of an index and value\n",
        "    cell_list[i].value = val    #use the index on cell_list and the val from cell_values\n",
        "\n",
        "f_r.update_cells(cell_list)"
      ]
    },
    {
      "cell_type": "markdown",
      "id": "16dc0bd4",
      "metadata": {
        "id": "16dc0bd4"
      },
      "source": [
        "## Subtask - 3:"
      ]
    },
    {
      "cell_type": "markdown",
      "id": "8b51789d",
      "metadata": {
        "id": "8b51789d"
      },
      "source": [
        "#### Compare the median of column Enterprise Value(Cr) across different Sectors. For instance, what is the median enterprise value of Technology sector as compared to Services sector"
      ]
    },
    {
      "cell_type": "code",
      "execution_count": null,
      "id": "ffc41052",
      "metadata": {
        "id": "ffc41052",
        "outputId": "a18e999f-bb20-4a30-abf2-8d392dcc22e5"
      },
      "outputs": [
        {
          "data": {
            "text/plain": [
              "Sector\n",
              "Automobile    35909.06\n",
              "Name: Enterprise_Value_Cr, dtype: float64"
            ]
          },
          "execution_count": 51,
          "metadata": {},
          "output_type": "execute_result"
        }
      ],
      "source": [
        "Enter_Val_Median_by_Sector = BSE500.groupby(['Sector'])['Enterprise_Value_Cr'].median()\n",
        "Enter_Val_Median_by_Sector.head(1)"
      ]
    },
    {
      "cell_type": "code",
      "execution_count": null,
      "id": "337574c4",
      "metadata": {
        "id": "337574c4",
        "outputId": "5fb871c9-2224-4626-ec4d-9d3f4318ae70"
      },
      "outputs": [
        {
          "data": {
            "text/html": [
              "<div>\n",
              "<style scoped>\n",
              "    .dataframe tbody tr th:only-of-type {\n",
              "        vertical-align: middle;\n",
              "    }\n",
              "\n",
              "    .dataframe tbody tr th {\n",
              "        vertical-align: top;\n",
              "    }\n",
              "\n",
              "    .dataframe thead th {\n",
              "        text-align: right;\n",
              "    }\n",
              "</style>\n",
              "<table border=\"1\" class=\"dataframe\">\n",
              "  <thead>\n",
              "    <tr style=\"text-align: right;\">\n",
              "      <th></th>\n",
              "      <th>Enterprise_Value_Cr</th>\n",
              "    </tr>\n",
              "    <tr>\n",
              "      <th>Sector</th>\n",
              "      <th></th>\n",
              "    </tr>\n",
              "  </thead>\n",
              "  <tbody>\n",
              "    <tr>\n",
              "      <th>Services</th>\n",
              "      <td>9644.630</td>\n",
              "    </tr>\n",
              "    <tr>\n",
              "      <th>Technology</th>\n",
              "      <td>15692.095</td>\n",
              "    </tr>\n",
              "  </tbody>\n",
              "</table>\n",
              "</div>"
            ],
            "text/plain": [
              "            Enterprise_Value_Cr\n",
              "Sector                         \n",
              "Services               9644.630\n",
              "Technology            15692.095"
            ]
          },
          "execution_count": 52,
          "metadata": {},
          "output_type": "execute_result"
        }
      ],
      "source": [
        "pd.DataFrame(Enter_Val_Median_by_Sector[15:17])"
      ]
    },
    {
      "cell_type": "markdown",
      "id": "fcd4e62d",
      "metadata": {
        "id": "fcd4e62d"
      },
      "source": [
        "#### Try to find a relation between Dividend Per Share with Market Cap(Cr)"
      ]
    },
    {
      "cell_type": "code",
      "execution_count": null,
      "id": "95ead1e5",
      "metadata": {
        "id": "95ead1e5",
        "outputId": "dc5a36b0-23c3-4d9c-cdfe-90a1aac3a0d5"
      },
      "outputs": [
        {
          "name": "stdout",
          "output_type": "stream",
          "text": [
            "0.04037095586290391\n",
            "The linear correlation coefficient of approximately 0.04 suggests that there is no appreciable linear correlation.\n"
          ]
        }
      ],
      "source": [
        "corr1 = BSE500['Dividend_Per_Share'].corr(BSE500['Market_Cap_Cr'])\n",
        "print(corr1)\n",
        "print('The linear correlation coefficient of approximately 0.04 suggests that there is no appreciable linear correlation.')"
      ]
    },
    {
      "cell_type": "markdown",
      "id": "30bff6ef",
      "metadata": {
        "id": "30bff6ef"
      },
      "source": [
        "#### Count the companies in different Industry with positive and negative 3-Year Return. For instance how many companies in Drugs & Pharma industry have positive 3-Year Return and how many have that negative. Basis this, decide which industry would you recommend someone to invest if the same return is followed"
      ]
    },
    {
      "cell_type": "code",
      "execution_count": null,
      "id": "28467169",
      "metadata": {
        "id": "28467169"
      },
      "outputs": [],
      "source": [
        "BSE500['ncompany'] = BSE500['Hello world'].loc[BSE500['_3_Year_Return']<0]\n",
        "BSE500['pcompany'] = BSE500['Hello world'].loc[BSE500['_3_Year_Return']>0]"
      ]
    },
    {
      "cell_type": "code",
      "execution_count": null,
      "id": "4c1013d2",
      "metadata": {
        "id": "4c1013d2",
        "outputId": "aaf80a8e-1c83-4cae-8128-4817ff3972c5"
      },
      "outputs": [
        {
          "data": {
            "text/plain": [
              "1                                Sanofi India Ltd.\n",
              "2                             Page Industries Ltd.\n",
              "3      Procter & Gamble Hygiene & Health Care Ltd.\n",
              "4                                Abbott India Ltd.\n",
              "5                                       Bosch Ltd.\n",
              "                          ...                     \n",
              "497                      Westlife Development Ltd.\n",
              "498                                 Wockhardt Ltd.\n",
              "499                                            NaN\n",
              "500                                            NaN\n",
              "501                                Tata Motors DVR\n",
              "Name: pcompany, Length: 501, dtype: object"
            ]
          },
          "execution_count": 55,
          "metadata": {},
          "output_type": "execute_result"
        }
      ],
      "source": [
        "BSE500['ncompany']\n",
        "BSE500['pcompany']"
      ]
    },
    {
      "cell_type": "code",
      "execution_count": null,
      "id": "aeb2a03f",
      "metadata": {
        "id": "aeb2a03f"
      },
      "outputs": [],
      "source": [
        "positive_3_Year_Return = BSE500.groupby('Industry').agg({'pcompany':['count']})\n",
        "negative_3_Year_Return = BSE500.groupby('Industry').agg({'ncompany':['count']})"
      ]
    },
    {
      "cell_type": "code",
      "execution_count": null,
      "id": "6cd67c6b",
      "metadata": {
        "id": "6cd67c6b",
        "outputId": "77af8ee7-6d7b-432b-eed4-e71d1d2d73e4"
      },
      "outputs": [
        {
          "data": {
            "text/html": [
              "<div>\n",
              "<style scoped>\n",
              "    .dataframe tbody tr th:only-of-type {\n",
              "        vertical-align: middle;\n",
              "    }\n",
              "\n",
              "    .dataframe tbody tr th {\n",
              "        vertical-align: top;\n",
              "    }\n",
              "\n",
              "    .dataframe thead tr th {\n",
              "        text-align: left;\n",
              "    }\n",
              "\n",
              "    .dataframe thead tr:last-of-type th {\n",
              "        text-align: right;\n",
              "    }\n",
              "</style>\n",
              "<table border=\"1\" class=\"dataframe\">\n",
              "  <thead>\n",
              "    <tr>\n",
              "      <th></th>\n",
              "      <th>pcompany</th>\n",
              "    </tr>\n",
              "    <tr>\n",
              "      <th></th>\n",
              "      <th>count</th>\n",
              "    </tr>\n",
              "    <tr>\n",
              "      <th>Industry</th>\n",
              "      <th></th>\n",
              "    </tr>\n",
              "  </thead>\n",
              "  <tbody>\n",
              "    <tr>\n",
              "      <th>ACs &amp; Refrigerators</th>\n",
              "      <td>4</td>\n",
              "    </tr>\n",
              "    <tr>\n",
              "      <th>Abrasives</th>\n",
              "      <td>2</td>\n",
              "    </tr>\n",
              "    <tr>\n",
              "      <th>Air Transport</th>\n",
              "      <td>1</td>\n",
              "    </tr>\n",
              "    <tr>\n",
              "      <th>Aluminium</th>\n",
              "      <td>2</td>\n",
              "    </tr>\n",
              "    <tr>\n",
              "      <th>Aquaculture</th>\n",
              "      <td>1</td>\n",
              "    </tr>\n",
              "    <tr>\n",
              "      <th>...</th>\n",
              "      <td>...</td>\n",
              "    </tr>\n",
              "    <tr>\n",
              "      <th>Tyres &amp; Tubes</th>\n",
              "      <td>4</td>\n",
              "    </tr>\n",
              "    <tr>\n",
              "      <th>Vegetable oils</th>\n",
              "      <td>1</td>\n",
              "    </tr>\n",
              "    <tr>\n",
              "      <th>Welding machinery</th>\n",
              "      <td>1</td>\n",
              "    </tr>\n",
              "    <tr>\n",
              "      <th>Wires &amp; cables</th>\n",
              "      <td>3</td>\n",
              "    </tr>\n",
              "    <tr>\n",
              "      <th>Wood</th>\n",
              "      <td>1</td>\n",
              "    </tr>\n",
              "  </tbody>\n",
              "</table>\n",
              "<p>134 rows × 1 columns</p>\n",
              "</div>"
            ],
            "text/plain": [
              "0                   pcompany\n",
              "                       count\n",
              "Industry                    \n",
              "ACs & Refrigerators        4\n",
              "Abrasives                  2\n",
              "Air Transport              1\n",
              "Aluminium                  2\n",
              "Aquaculture                1\n",
              "...                      ...\n",
              "Tyres & Tubes              4\n",
              "Vegetable oils             1\n",
              "Welding machinery          1\n",
              "Wires & cables             3\n",
              "Wood                       1\n",
              "\n",
              "[134 rows x 1 columns]"
            ]
          },
          "execution_count": 57,
          "metadata": {},
          "output_type": "execute_result"
        }
      ],
      "source": [
        "positive_3_Year_Return"
      ]
    },
    {
      "cell_type": "code",
      "execution_count": null,
      "id": "d51e46ea",
      "metadata": {
        "id": "d51e46ea",
        "outputId": "c10be210-5364-4d44-c57f-896a5f3da5a1"
      },
      "outputs": [
        {
          "data": {
            "text/html": [
              "<div>\n",
              "<style scoped>\n",
              "    .dataframe tbody tr th:only-of-type {\n",
              "        vertical-align: middle;\n",
              "    }\n",
              "\n",
              "    .dataframe tbody tr th {\n",
              "        vertical-align: top;\n",
              "    }\n",
              "\n",
              "    .dataframe thead tr th {\n",
              "        text-align: left;\n",
              "    }\n",
              "\n",
              "    .dataframe thead tr:last-of-type th {\n",
              "        text-align: right;\n",
              "    }\n",
              "</style>\n",
              "<table border=\"1\" class=\"dataframe\">\n",
              "  <thead>\n",
              "    <tr>\n",
              "      <th></th>\n",
              "      <th>ncompany</th>\n",
              "    </tr>\n",
              "    <tr>\n",
              "      <th></th>\n",
              "      <th>count</th>\n",
              "    </tr>\n",
              "    <tr>\n",
              "      <th>Industry</th>\n",
              "      <th></th>\n",
              "    </tr>\n",
              "  </thead>\n",
              "  <tbody>\n",
              "    <tr>\n",
              "      <th>ACs &amp; Refrigerators</th>\n",
              "      <td>2</td>\n",
              "    </tr>\n",
              "    <tr>\n",
              "      <th>Abrasives</th>\n",
              "      <td>0</td>\n",
              "    </tr>\n",
              "    <tr>\n",
              "      <th>Air Transport</th>\n",
              "      <td>1</td>\n",
              "    </tr>\n",
              "    <tr>\n",
              "      <th>Aluminium</th>\n",
              "      <td>0</td>\n",
              "    </tr>\n",
              "    <tr>\n",
              "      <th>Aquaculture</th>\n",
              "      <td>0</td>\n",
              "    </tr>\n",
              "    <tr>\n",
              "      <th>...</th>\n",
              "      <td>...</td>\n",
              "    </tr>\n",
              "    <tr>\n",
              "      <th>Tyres &amp; Tubes</th>\n",
              "      <td>0</td>\n",
              "    </tr>\n",
              "    <tr>\n",
              "      <th>Vegetable oils</th>\n",
              "      <td>0</td>\n",
              "    </tr>\n",
              "    <tr>\n",
              "      <th>Welding machinery</th>\n",
              "      <td>0</td>\n",
              "    </tr>\n",
              "    <tr>\n",
              "      <th>Wires &amp; cables</th>\n",
              "      <td>0</td>\n",
              "    </tr>\n",
              "    <tr>\n",
              "      <th>Wood</th>\n",
              "      <td>0</td>\n",
              "    </tr>\n",
              "  </tbody>\n",
              "</table>\n",
              "<p>134 rows × 1 columns</p>\n",
              "</div>"
            ],
            "text/plain": [
              "0                   ncompany\n",
              "                       count\n",
              "Industry                    \n",
              "ACs & Refrigerators        2\n",
              "Abrasives                  0\n",
              "Air Transport              1\n",
              "Aluminium                  0\n",
              "Aquaculture                0\n",
              "...                      ...\n",
              "Tyres & Tubes              0\n",
              "Vegetable oils             0\n",
              "Welding machinery          0\n",
              "Wires & cables             0\n",
              "Wood                       0\n",
              "\n",
              "[134 rows x 1 columns]"
            ]
          },
          "execution_count": 58,
          "metadata": {},
          "output_type": "execute_result"
        }
      ],
      "source": [
        "negative_3_Year_Return"
      ]
    },
    {
      "cell_type": "code",
      "execution_count": null,
      "id": "33a33cbe",
      "metadata": {
        "id": "33a33cbe",
        "outputId": "b2b86c64-1173-4b05-f563-bfffb0ecf6ab"
      },
      "outputs": [
        {
          "data": {
            "text/html": [
              "<div>\n",
              "<style scoped>\n",
              "    .dataframe tbody tr th:only-of-type {\n",
              "        vertical-align: middle;\n",
              "    }\n",
              "\n",
              "    .dataframe tbody tr th {\n",
              "        vertical-align: top;\n",
              "    }\n",
              "\n",
              "    .dataframe thead tr th {\n",
              "        text-align: left;\n",
              "    }\n",
              "\n",
              "    .dataframe thead tr:last-of-type th {\n",
              "        text-align: right;\n",
              "    }\n",
              "</style>\n",
              "<table border=\"1\" class=\"dataframe\">\n",
              "  <thead>\n",
              "    <tr>\n",
              "      <th></th>\n",
              "      <th>pcompany</th>\n",
              "      <th>ncompany</th>\n",
              "    </tr>\n",
              "    <tr>\n",
              "      <th></th>\n",
              "      <th>count</th>\n",
              "      <th>count</th>\n",
              "    </tr>\n",
              "    <tr>\n",
              "      <th>Industry</th>\n",
              "      <th></th>\n",
              "      <th></th>\n",
              "    </tr>\n",
              "  </thead>\n",
              "  <tbody>\n",
              "    <tr>\n",
              "      <th>Drugs &amp; Pharma</th>\n",
              "      <td>31</td>\n",
              "      <td>5</td>\n",
              "    </tr>\n",
              "  </tbody>\n",
              "</table>\n",
              "</div>"
            ],
            "text/plain": [
              "0              pcompany ncompany\n",
              "                  count    count\n",
              "Industry                        \n",
              "Drugs & Pharma       31        5"
            ]
          },
          "execution_count": 59,
          "metadata": {},
          "output_type": "execute_result"
        }
      ],
      "source": [
        "joining = pd.concat([positive_3_Year_Return ,negative_3_Year_Return], axis=1, join='inner')\n",
        "joining\n",
        "joining[36:37]"
      ]
    },
    {
      "cell_type": "code",
      "execution_count": null,
      "id": "c3c62e6f",
      "metadata": {
        "id": "c3c62e6f"
      },
      "outputs": [],
      "source": []
    },
    {
      "cell_type": "markdown",
      "id": "15774b69",
      "metadata": {
        "id": "15774b69"
      },
      "source": [
        "### Come up with any one KPI which can help define the best stock across different Sector, you may need to learn a little bit of Finance for the same"
      ]
    },
    {
      "cell_type": "code",
      "execution_count": null,
      "id": "f05c4153",
      "metadata": {
        "id": "f05c4153"
      },
      "outputs": [],
      "source": [
        "pe_kpi_stock_dataframe = ((BSE500[(BSE500.Delta>0) & (BSE500._10_Year_Return_per>20)].sort_values(by=['Dividend_Per_Share'],ascending=False)[['NSE_code','Sector','Price_to_Earnings']]))"
      ]
    },
    {
      "cell_type": "code",
      "execution_count": null,
      "id": "d1312580",
      "metadata": {
        "id": "d1312580"
      },
      "outputs": [],
      "source": [
        "#pe_kpi_stock = pe_kpi_stock_dataframe.sort_values(by=['Price_to_Earnings'])"
      ]
    },
    {
      "cell_type": "code",
      "execution_count": null,
      "id": "1aabb3d3",
      "metadata": {
        "id": "1aabb3d3"
      },
      "outputs": [],
      "source": [
        "import pandasql as ps"
      ]
    },
    {
      "cell_type": "code",
      "execution_count": null,
      "id": "d32ba859",
      "metadata": {
        "id": "d32ba859",
        "outputId": "9ca07d84-0062-4c24-d504-c18d80d46656"
      },
      "outputs": [
        {
          "name": "stdout",
          "output_type": "stream",
          "text": [
            "Here I am choosing price to earning as a kpi. Minimum the price to earning ratio indicates \n",
            "how cheepe the stock is. Here is the Industry wise top 1 stock whoes delta is greater than 0, 10 year\n",
            "return is greater than 20%, sorted by maximum dividend per share and price to earning ratio is lowest\n",
            "\n",
            "      NSE_code                  Sector  Price_to_Earnings  rn\n",
            "0   SUNCLAYLTD              Automobile              15.73   1\n",
            "1    FINCABLES           Capital Goods              11.26   1\n",
            "2         GNFC               Chemicals               5.66   1\n",
            "3         HFCL           Communication              39.22   1\n",
            "4       KNRCON            Construction              20.01   1\n",
            "5    WHIRLPOOL  Consumer Discretionary              36.27   1\n",
            "6      JKPAPER        Consumer Staples              10.16   1\n",
            "7          SRF             Diversified              36.79   1\n",
            "8   ADANIPOWER                  Energy              15.99   1\n",
            "9   MOTILALOFS               Financial              10.39   1\n",
            "10  AUROPHARMA              Healthcare              13.20   1\n",
            "11       UFLEX               Materials               4.56   1\n",
            "12    JSWSTEEL         Metals & Mining              10.57   1\n",
            "13      NAUKRI                Services               4.30   1\n",
            "14      MASTEK              Technology              18.49   1\n",
            "15         VTL                Textiles               6.09   1\n"
          ]
        }
      ],
      "source": [
        "q1 = \"\"\"\n",
        "\n",
        "WITH CTE AS\n",
        "(SELECT *\n",
        ",row_number() over (partition by Sector order by Price_to_Earnings) as rn\n",
        "FROM pe_kpi_stock_dataframe\n",
        "where Price_to_Earnings is not null)\n",
        "select * from CTE\n",
        "where rn == 1\n",
        "\n",
        "\"\"\"\n",
        "print('''Here I am choosing price to earning as a kpi. Minimum the price to earning ratio indicates \n",
        "how cheepe the stock is. Here is the Industry wise top 1 stock whoes delta is greater than 0, 10 year\n",
        "return is greater than 20%, sorted by maximum dividend per share and price to earning ratio is lowest\n",
        "''')\n",
        "top_stock = pd.DataFrame(ps.sqldf(q1, locals()))\n",
        "print(top_stock)"
      ]
    },
    {
      "cell_type": "code",
      "execution_count": null,
      "id": "1fbfe4db",
      "metadata": {
        "id": "1fbfe4db"
      },
      "outputs": [],
      "source": [
        "top_stock_col_1 = top_stock['NSE_code']"
      ]
    },
    {
      "cell_type": "code",
      "execution_count": null,
      "id": "c8e95237",
      "metadata": {
        "id": "c8e95237"
      },
      "outputs": [],
      "source": [
        "top_stock_col_2 = top_stock['Sector']"
      ]
    },
    {
      "cell_type": "code",
      "execution_count": null,
      "id": "de670c8d",
      "metadata": {
        "id": "de670c8d"
      },
      "outputs": [],
      "source": [
        "top_stock_col_3 = top_stock['Price_to_Earnings']"
      ]
    },
    {
      "cell_type": "code",
      "execution_count": null,
      "id": "37828b6e",
      "metadata": {
        "id": "37828b6e",
        "outputId": "d48b49cd-875b-4b37-8a4b-9b4bbebfbcae"
      },
      "outputs": [
        {
          "data": {
            "text/plain": [
              "{'spreadsheetId': '1dlArNE_7-2XCSCrR9dEgIM72FZ0GEsndF3hng9XOp0M',\n",
              " 'updatedRange': 'Sheet1!A34:A49',\n",
              " 'updatedRows': 16,\n",
              " 'updatedColumns': 1,\n",
              " 'updatedCells': 16}"
            ]
          },
          "execution_count": 81,
          "metadata": {},
          "output_type": "execute_result"
        }
      ],
      "source": [
        "cell_list = f_r.range('A34:A49')\n",
        "cell_values = top_stock_col_1\n",
        "\n",
        "for i, val in enumerate(cell_values):  #gives us a tuple of an index and value\n",
        "    cell_list[i].value = val    #use the index on cell_list and the val from cell_values\n",
        "\n",
        "f_r.update_cells(cell_list)"
      ]
    },
    {
      "cell_type": "code",
      "execution_count": null,
      "id": "7fb4619f",
      "metadata": {
        "id": "7fb4619f",
        "outputId": "5014b5df-b8bb-4efa-e164-2f9356e41d02"
      },
      "outputs": [
        {
          "data": {
            "text/plain": [
              "{'spreadsheetId': '1dlArNE_7-2XCSCrR9dEgIM72FZ0GEsndF3hng9XOp0M',\n",
              " 'updatedRange': 'Sheet1!B34:B49',\n",
              " 'updatedRows': 16,\n",
              " 'updatedColumns': 1,\n",
              " 'updatedCells': 16}"
            ]
          },
          "execution_count": 82,
          "metadata": {},
          "output_type": "execute_result"
        }
      ],
      "source": [
        "cell_list = f_r.range('B34:B49')\n",
        "cell_values = top_stock_col_2\n",
        "\n",
        "for i, val in enumerate(cell_values):  #gives us a tuple of an index and value\n",
        "    cell_list[i].value = val    #use the index on cell_list and the val from cell_values\n",
        "\n",
        "f_r.update_cells(cell_list)"
      ]
    },
    {
      "cell_type": "code",
      "execution_count": null,
      "id": "6b0219df",
      "metadata": {
        "id": "6b0219df"
      },
      "outputs": [],
      "source": [
        "cell_list = f_r.range('B34:B49')\n",
        "cell_values = top_stock_col_2\n",
        "\n",
        "for i, val in enumerate(cell_values):  #gives us a tuple of an index and value\n",
        "    cell_list[i].value = val    #use the index on cell_list and the val from cell_values\n",
        "\n",
        "f_r.update_cells(cell_list)"
      ]
    },
    {
      "cell_type": "code",
      "execution_count": null,
      "id": "793fe9a6",
      "metadata": {
        "id": "793fe9a6"
      },
      "outputs": [],
      "source": []
    },
    {
      "cell_type": "code",
      "execution_count": null,
      "id": "aee74010",
      "metadata": {
        "id": "aee74010"
      },
      "outputs": [],
      "source": []
    }
  ],
  "metadata": {
    "kernelspec": {
      "display_name": "Python 3 (ipykernel)",
      "language": "python",
      "name": "python3"
    },
    "language_info": {
      "codemirror_mode": {
        "name": "ipython",
        "version": 3
      },
      "file_extension": ".py",
      "mimetype": "text/x-python",
      "name": "python",
      "nbconvert_exporter": "python",
      "pygments_lexer": "ipython3",
      "version": "3.10.6"
    },
    "colab": {
      "provenance": []
    }
  },
  "nbformat": 4,
  "nbformat_minor": 5
}